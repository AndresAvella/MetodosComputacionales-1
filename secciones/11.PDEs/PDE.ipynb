{
 "cells": [
  {
   "cell_type": "markdown",
   "metadata": {},
   "source": [
    "# Partial Differential Equations"
   ]
  },
  {
   "cell_type": "markdown",
   "metadata": {},
   "source": [
    "There is a large array of physical phenomena that can be described by differential equations involving partial derivatives. Those equations are known as Partial Differential Equations (PDEs)\n",
    "\n",
    "\n",
    "Here is a brief list of PDEs with its corresponding physics background:\n",
    "\n",
    "* The Schroedinger Equation in 2D\n",
    "$$\n",
    "-\\frac{\\partial^2 u }{\\partial x^2} -\\frac{\\partial^2 u}{\\partial y^2} + f(x,y) u = i\\frac{\\partial u}{\\partial t}\n",
    "$$\n",
    "where $u$ is the wave-function.\n",
    "\n",
    "* Poission equation in 3D (classical gravity)\n",
    "$$\n",
    "\\frac{\\partial^2 u }{\\partial x^2} + \\frac{\\partial^2 u}{\\partial y^2} + \\frac{\\partial^2 u}{\\partial x^2} = -4\\pi\\rho(x,y,z)\n",
    "$$\n",
    "where $u$ is the gravitational potential and $\\rho$ is an arbitrary density distribution.\n",
    "\n",
    "* Difussion equation (1D)\n",
    "$$\n",
    "\\frac{\\partial^2 u}{\\partial x^2}= A\\frac{\\partial u}{\\partial t}\n",
    "$$\n",
    "where $u$ could be for instance a scalar field representing heat and $A$ is known as the difussion constant.\n",
    "\n",
    "* Wave equation (2D)\n",
    "$$\n",
    "\\frac{\\partial^2 u }{\\partial x^2} + \\frac{\\partial^2 u}{\\partial y^2}=A\\frac{\\partial^2 u}{\\partial t^2}\n",
    "$$\n",
    "\n",
    "There are many different methods to solve these equations such as finite elements or spectral methods, which can include Fourier Transform methods. In this section we will focus on the Finite Differences Method.\n"
   ]
  },
  {
   "cell_type": "markdown",
   "metadata": {},
   "source": [
    "# Finite differences\n",
    "\n",
    "The concept behind the finite differences method is the same equal-step logic we have applied so far in ODE. We discretize the spatial and temporal variables into 'deltas' that can be used to define the functions and derivatives we need."
   ]
  },
  {
   "cell_type": "markdown",
   "metadata": {},
   "source": [
    "## Diffusion equation\n",
    "\n",
    "Take for instance the 1D diffusion equation\n",
    "$$\n",
    "\\frac{\\partial^2 u}{\\partial x^2}=\\frac{\\partial u}{\\partial t}\n",
    "$$\n",
    "\n",
    "Using the first term of the Taylor series one can approximate the derivatives as:\n",
    "\n",
    "\n",
    "$$\n",
    "\\frac{\\partial u}{\\partial t} \\approx \\frac{u(x,t+\\Delta t) - u(x,t)}{\\Delta t}\n",
    "$$\n",
    "\n",
    "$$\n",
    "\\frac{\\partial^2 u}{\\partial x^2} \\approx \\frac{u(x+\\Delta x,t) - 2 u(x,t) + u(x-\\Delta x,t)}{(\\Delta x)^2}\n",
    "$$"
   ]
  },
  {
   "cell_type": "markdown",
   "metadata": {},
   "source": [
    "If now we define that space in the region $0<x<L$ is discretized into $N+1$ points with spacing $\\Delta x$ and time is disretized into $M$ points spaced by $\\Delta t$ for $t>0$, we can define a series of points \n",
    "\n",
    "$$\n",
    "t_{j}=j\\Delta t\\ \\ j\\geq 0\n",
    "$$\n",
    "\n",
    "$$\n",
    "x_{i} = i\\Delta x\\ \\ 0\\leq i\\leq N\n",
    "$$\n",
    "\n",
    "such that the derivatives are now rewriten as\n",
    "\n",
    "$$\n",
    "\\frac{\\partial u}{\\partial t} \\approx \\frac{u(x_{i} ,t_{j+1}) - u(x_{i},t_{j})}{\\Delta t}\n",
    "$$\n",
    "\n",
    "$$\n",
    "\\frac{\\partial^2 u}{\\partial x^2} \\approx \\frac{u(x_{i+1},t_j) - 2 u(x_{i},t_j) + u(x_{i-1},t_j)}{(\\Delta x)^2}\n",
    "$$\n",
    "\n"
   ]
  },
  {
   "cell_type": "markdown",
   "metadata": {},
   "source": [
    "We simplify further this equations by introducing a new notation where the upper script describes the time discretization and the lower script describes the space discretization.\n",
    "\n",
    "\n",
    "$$\n",
    "\\frac{\\partial u}{\\partial t} \\approx \\frac{u_{i}^{j+1} - u_{i}^{j}}{\\Delta t}\n",
    "$$\n",
    "\n",
    "$$\n",
    "\\frac{\\partial^2 u}{\\partial x^2} \\approx \\frac{u_{i+1}^j - 2 u_{i}^{j} + u_{i-1}^{j}}{(\\Delta x)^2}\n",
    "$$"
   ]
  },
  {
   "cell_type": "markdown",
   "metadata": {},
   "source": [
    "We solve for $u_{i}^{j+1}$\n",
    "\n",
    "$$\n",
    "\\frac{u_{i+1}^j - 2 u_{i}^{j} + u_{i-1}^{j}}{(\\Delta x)^2} = \\frac{u_{i}^{j+1} - u_{i}^{j}}{\\Delta t}\n",
    "$$\n",
    "\n",
    "$$\n",
    "u_{i}^{j+1} = \\alpha u_{i+1}^{j} + (1 - 2\\alpha)u_{i}^{j} + \\alpha u_{i-1}^{j}\n",
    "$$\n",
    "\n",
    "where $\\alpha = \\Delta t/ (\\Delta x)^2$.\n",
    "\n",
    "To solve this we require initial conditions $u_{i}^{0} = g(x_i)$ and boundary conditions $u(0,t)= a(t)$, $u(L,t)=b(t)$. \n",
    "\n",
    "This is known as an explicit scheme that is very easy to implement. However it has a condition for numerical stability $\\alpha<1/2$."
   ]
  },
  {
   "cell_type": "markdown",
   "metadata": {},
   "source": [
    "## Wave equation\n",
    "\n",
    "We can use the same method to get a solution for the wave equation\n",
    "$$\n",
    "\\frac{\\partial^2 u}{\\partial x^2}=c^2\\frac{\\partial^2 u}{\\partial t^2}\n",
    "$$\n",
    "\n",
    "to get the following expression\n",
    "\n",
    "\n",
    "$$\n",
    "u_{i}^{j+1}= 2(1-r^2)u_{i}^{j} - u_{i}^{j-1} + r^2(u_{i+1}^{j} + u_{i-1}^j)\n",
    "$$\n",
    "\n",
    "where $r=c\\Delta t/\\Delta x$ and the stability condition is $r<1$.\n"
   ]
  },
  {
   "cell_type": "markdown",
   "metadata": {},
   "source": [
    "Are we ready to solve this equation? Not quite. We also need an initial condition for the first time derivative, which can be put as \n",
    "$$\n",
    "\\frac{\\partial u}{\\partial t} (t=0) = \\frac{u_{i}^{+1}- u_{i}^{-1}}{2\\Delta t} = 0\n",
    "$$\n",
    "\n",
    "which gives a special condition for the first timestep:\n",
    "\n",
    "$$\n",
    "u_{i}^{1}=u_{i}^{0} + \\frac{r^2}{2}(u_{i+1}^0 - 2u_{i}^0 + u_{i-1}^0)\n",
    "$$\n",
    "\n",
    "As in the previous case, the boundaries must also be fixed to some known value $u_{0}^{j}=a$, $u_{N}=0$. The ends can also be considered to be free, in which case $u_{0}^{j}=u_{1}$ and $u_{N}^{j}=u_{N-1}^{j}$"
   ]
  },
  {
   "cell_type": "markdown",
   "metadata": {},
   "source": [
    "## Example : Solving the 1D wave equation"
   ]
  },
  {
   "cell_type": "code",
   "execution_count": 1,
   "metadata": {
    "collapsed": false
   },
   "outputs": [
    {
     "name": "stdout",
     "output_type": "stream",
     "text": [
      "Populating the interactive namespace from numpy and matplotlib\n"
     ]
    }
   ],
   "source": [
    "%pylab inline"
   ]
  },
  {
   "cell_type": "code",
   "execution_count": 2,
   "metadata": {
    "collapsed": false
   },
   "outputs": [],
   "source": [
    "n_points = 1000\n",
    "x = linspace(0.0,1.0,n_points)\n",
    "u_initial = exp(-((x-0.3)*(x-0.3))/0.01)"
   ]
  },
  {
   "cell_type": "code",
   "execution_count": 3,
   "metadata": {
    "collapsed": false
   },
   "outputs": [
    {
     "data": {
      "text/plain": [
       "[<matplotlib.lines.Line2D at 0x7f0fdfcb5250>]"
      ]
     },
     "execution_count": 3,
     "metadata": {},
     "output_type": "execute_result"
    },
    {
     "data": {
      "image/png": "[encoded data removed]",
      "text/plain": [
       "<matplotlib.figure.Figure at 0x7f0fdffebad0>"
      ]
     },
     "metadata": {},
     "output_type": "display_data"
    }
   ],
   "source": [
    "plot(x,u_initial)"
   ]
  },
  {
   "cell_type": "code",
   "execution_count": 4,
   "metadata": {
    "collapsed": false
   },
   "outputs": [
    {
     "name": "stdout",
     "output_type": "stream",
     "text": [
      "0.4995\n"
     ]
    }
   ],
   "source": [
    "#find the first iteration for fixed boundary conditions\n",
    "delta_x = x[1]-x[0]\n",
    "delta_t = 0.0005\n",
    "c = 1.0\n",
    "r = c * delta_t / delta_x\n",
    "\n",
    "print r # remember, this should be less than 1.0 for this scheme to work\n",
    "\n",
    "#fixed boundary conditions\n",
    "u_initial[0] = 0.0\n",
    "u_initial[n_points-1] = 0.0\n",
    "\n",
    "u_future = zeros(n_points)\n",
    "u_future[0] = 0.0\n",
    "u_future[n_points-1] = 0.0\n",
    "\n",
    "for i in range(1,n_points-1):\n",
    "    u_future[i] = u_initial[i] + (r**2/2.0) * (u_initial[i+1] - 2.0 * u_initial[i] + u_initial[i-1])\n",
    "\n",
    "#create a new variable to hold the previous value\n",
    "u_past = u_initial.copy()\n",
    "#create a new variable to hold the present value\n",
    "u_present = u_future.copy()"
   ]
  },
  {
   "cell_type": "code",
   "execution_count": 5,
   "metadata": {
    "collapsed": false
   },
   "outputs": [
    {
     "data": {
      "text/plain": [
       "<matplotlib.text.Text at 0x7f0fdfc3a590>"
      ]
     },
     "execution_count": 5,
     "metadata": {},
     "output_type": "execute_result"
    },
    {
     "data": {
      "image/png": "[encoded data removed]",
      "text/plain": [
       "<matplotlib.figure.Figure at 0x7f0fdfcdae50>"
      ]
     },
     "metadata": {},
     "output_type": "display_data"
    }
   ],
   "source": [
    "plot(x, u_initial)\n",
    "plot(x, u_past)\n",
    "plot(x, u_present)\n",
    "plt.xlabel('x')\n",
    "plt.ylabel('u')"
   ]
  },
  {
   "cell_type": "code",
   "execution_count": 6,
   "metadata": {
    "collapsed": false
   },
   "outputs": [],
   "source": [
    "#next iterations\n",
    "n_time = 350\n",
    "for j in range(n_time):\n",
    "    for i in range(1,n_points-1):\n",
    "        u_future[i] = (2.0*(1.0-r**2))*u_present[i] - u_past[i] + (r**2)*(u_present[i+1] +  u_present[i-1])\n",
    "    u_past = u_present.copy()\n",
    "    #create a new variable to hold the present value\n",
    "    u_present = u_future.copy()"
   ]
  },
  {
   "cell_type": "code",
   "execution_count": 8,
   "metadata": {
    "collapsed": false
   },
   "outputs": [
    {
     "data": {
      "text/plain": [
       "<matplotlib.text.Text at 0x10fab0710>"
      ]
     },
     "execution_count": 8,
     "metadata": {},
     "output_type": "execute_result"
    },
    {
     "data": {
      "image/png": "[encoded data removed]",
      "text/plain": [
       "<matplotlib.figure.Figure at 0x10fa0fc50>"
      ]
     },
     "metadata": {},
     "output_type": "display_data"
    }
   ],
   "source": [
    "plot(x, u_initial)\n",
    "plot(x, u_present)\n",
    "plt.xlabel('x')\n",
    "plt.ylabel('u')"
   ]
  },
  {
   "cell_type": "markdown",
   "metadata": {},
   "source": [
    "# Exercise\n",
    "\n",
    "1. Write a program in C to compute the solution of the 1D wave equation for the first 1000 iterations and a python program to visualize the time evolution. Use the same initial conditions as above. You might want to use this library https://github.com/ipython/ipywidgets\n",
    "\n",
    "2. What should happen if you now use a sinus wave as the initial condition? Check your intution by solving numerically the equations."
   ]
  }
 ],
 "metadata": {
  "kernelspec": {
   "display_name": "Python 2",
   "language": "python",
   "name": "python2"
  },
  "language_info": {
   "codemirror_mode": {
    "name": "ipython",
    "version": 2
   },
   "file_extension": ".py",
   "mimetype": "text/x-python",
   "name": "python",
   "nbconvert_exporter": "python",
   "pygments_lexer": "ipython2",
   "version": "2.7.6"
  }
 },
 "nbformat": 4,
 "nbformat_minor": 0
}
