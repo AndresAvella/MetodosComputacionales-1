{
 "cells": [
  {
   "cell_type": "markdown",
   "metadata": {},
   "source": [
    "# Sistemas de ecuaciones lineales"
   ]
  },
  {
   "cell_type": "markdown",
   "metadata": {},
   "source": [
    "En este notebook vamos a ver conceptos basicos para resolver sistemas de ecuaciones lineales.\n",
    "\n",
    "La estructura de esta presentación está basada en http://nbviewer.ipython.org/github/mbakker7/exploratory_computing_with_python/blob/master/notebook_adv2/py_exp_comp_adv2_sol.ipynb"
   ]
  },
  {
   "cell_type": "code",
   "execution_count": 1,
   "metadata": {
    "collapsed": false
   },
   "outputs": [],
   "source": [
    "import numpy as np\n",
    "import matplotlib.pyplot as plt\n",
    "%matplotlib inline"
   ]
  },
  {
   "cell_type": "markdown",
   "metadata": {},
   "source": [
    "# Sistemas de ecuaciones lineales\n",
    "\n",
    "Un ejemplo de un sistema de ecuaciones lineales puede ser el siguiente\n",
    "\n",
    "\n",
    "$\n",
    "\\begin{split}\n",
    "a_{11} x_1 + a_{12} x_2+  a_{13}x_3 = b_1 \\\\\n",
    "a_{21} x_1 + a_{22} x_2+ a_{23} x_3 = b_2 \\\\\n",
    "a_{31} x_1 + a_{32} x_2+ a_{33} x_3 = b_3 \\\\\n",
    "\\end{split}\n",
    "$\n",
    "\n",
    "que puede ser escrito de manera matricial como $Ax = b$, donde la solución se puede escribir como $x=A^{-1}b$. Esto motiva el desarrollo de métodos para encontrar la inversa de una matriz."
   ]
  },
  {
   "cell_type": "code",
   "execution_count": 2,
   "metadata": {
    "collapsed": false
   },
   "outputs": [
    {
     "name": "stdout",
     "output_type": "stream",
     "text": [
      "[[ 4.  3. -2.]\n",
      " [ 1.  2.  1.]\n",
      " [-3.  3.  2.]]\n",
      "[[ 3.]\n",
      " [ 2.]\n",
      " [ 1.]]\n",
      "sol [[ 0.48275862]\n",
      " [ 0.5862069 ]\n",
      " [ 0.34482759]]\n",
      "[[ 3.]\n",
      " [ 2.]\n",
      " [ 1.]]\n",
      "Ainv\n",
      "[[-0.03448276  0.4137931  -0.24137931]\n",
      " [ 0.17241379 -0.06896552  0.20689655]\n",
      " [-0.31034483  0.72413793 -0.17241379]]\n",
      "A * Ainv\n",
      "[[  1.00000000e+00   0.00000000e+00  -5.55111512e-17]\n",
      " [ -5.55111512e-17   1.00000000e+00   2.77555756e-17]\n",
      " [ -1.11022302e-16   0.00000000e+00   1.00000000e+00]]\n"
     ]
    }
   ],
   "source": [
    "#usando numpy se pueden resolver sistemas de este tipo.\n",
    "A = np.array([[4.0,3.0,-2.0],[1.0,2.0,1.0],[-3.0,3.0,2.0]])\n",
    "b = np.array([[3.0],[2.0],[1.0]])\n",
    "b = np.array([[3.0],[2.0],[1.0]])\n",
    "\n",
    "sol = np.linalg.solve(A,b)\n",
    "print(A)\n",
    "print(b)\n",
    "print(\"sol\",sol)\n",
    "print(np.dot(A,sol))\n",
    "\n",
    "#la inversa se puede encontrar como\n",
    "Ainv = np.linalg.inv(A)\n",
    "print(\"Ainv\")\n",
    "print(Ainv)\n",
    "print(\"A * Ainv\")\n",
    "print(np.dot(A,Ainv))"
   ]
  },
  {
   "cell_type": "markdown",
   "metadata": {},
   "source": [
    "### Construyendo un sistemas de ecuaciones lineales\n",
    "\n",
    "Tenemos ahora el ejemplo siguiente. Tenemos tres puntos en el plano (x,y) y queremos encontrar la parábola que pasa por esos tres puntos.\n",
    "La ecuación de la parábola es $y=ax^2+bx+c$, si tenemos tres puntos $(x_1,y_1)$, $(x_2,y_2)$, $(x_3,y_3)$ podemos definir el siguiente sistema de ecuaciones lineales.\n",
    "\n",
    "$\n",
    "\\begin{split}\n",
    "x_1^2a+x_1b+c&=y_1 \\\\\n",
    "x_2^2a+x_2b+c&=y_2 \\\\\n",
    "x_3^2a+x_3b+c&=y_3 \\\\\n",
    "\\end{split}\n",
    "$\n",
    "\n",
    "Que en notación matricial se ven así\n",
    "\n",
    "$\n",
    "\\left(\n",
    "\\begin{array}{ccc}\n",
    "x_1^2 & x_1 & 1 \\\\\n",
    "x_2^2 & x_2 & 1 \\\\\n",
    "x_3^2 & x_3 & 1 \\\\\n",
    "\\end{array}\n",
    "\\right)\n",
    "\\left(\n",
    "\\begin{array}{c}\n",
    "a \\\\b \\\\c \\\\\n",
    "\\end{array}\n",
    "\\right)\n",
    "=\n",
    "\\left(\n",
    "\\begin{array}{c}\n",
    "y_1 \\\\\n",
    "y_2 \\\\\n",
    "y_3 \\\\\n",
    "\\end{array}\n",
    "\\right)\n",
    "$\n",
    "\n",
    "Vamos a resolver este sistema lineal, asumiendo que los tres puntos son: $(x_1,y_1)=(-2,2)$, $(x_2,y_2)=(1,-1)$, $(x_3,y_3)=(4,4)$"
   ]
  },
  {
   "cell_type": "code",
   "execution_count": 3,
   "metadata": {
    "collapsed": false
   },
   "outputs": [
    {
     "name": "stdout",
     "output_type": "stream",
     "text": [
      "Array A: \n",
      "[[  4.  -2.   1.]\n",
      " [  1.   1.   1.]\n",
      " [ 16.   4.   1.]]\n",
      "b:  [ 2. -1.  4.]\n"
     ]
    }
   ],
   "source": [
    "#primero construimos las matrices A y b\n",
    "xp = np.array([-2, 1,4])\n",
    "yp = np.array([ 2,-1,4])\n",
    "A = np.zeros((3,3))\n",
    "b = np.zeros(3)\n",
    "for i in range(3):\n",
    "    A[i] = xp[i]**2, xp[i], 1  # Store one row at a time\n",
    "    b[i] = yp[i]\n",
    "print('Array A: ')\n",
    "print(A)\n",
    "print('b: ',b)"
   ]
  },
  {
   "cell_type": "code",
   "execution_count": 4,
   "metadata": {
    "collapsed": false
   },
   "outputs": [
    {
     "name": "stdout",
     "output_type": "stream",
     "text": [
      "solution is:  [ 0.44444444 -0.55555556 -0.88888889]\n",
      "A dot sol:  [ 2. -1.  4.]\n"
     ]
    },
    {
     "data": {
      "text/plain": [
       "[<matplotlib.lines.Line2D at 0x116b34fd0>]"
      ]
     },
     "execution_count": 4,
     "metadata": {},
     "output_type": "execute_result"
    },
    {
     "data": {
      "image/png": "[encoded data removed]",
      "text/plain": [
       "<matplotlib.figure.Figure at 0x110af9048>"
      ]
     },
     "metadata": {},
     "output_type": "display_data"
    }
   ],
   "source": [
    "#ahora resolvemos el sistema lineal y graficamos la solucion\n",
    "sol = np.linalg.solve(A,b)\n",
    "print('solution is: ', sol)\n",
    "print('A dot sol: ', np.dot(A,sol))\n",
    "plt.plot([-2,1,4], [2,-1,4], 'ro')\n",
    "x = np.linspace(-3,5,100)\n",
    "y = sol[0]*x**2 + sol[1]*x + sol[2]\n",
    "plt.plot(x,y,'b')"
   ]
  },
  {
   "cell_type": "markdown",
   "metadata": {},
   "source": [
    "### Ejercicio 1\n",
    "\n",
    "Tomen las mediciones de una cantidad $y$ a diferentes tiempos $t$: $(t_0,y_0)=(0,3)$, $(t_1,y_1)=(0.25,1)$, $(t_2,y_2)=(0.5,-3)$, $(t_3,y_3)=(0.75,1)$. Estas medidas son parte de una función periódica que se puede escribir como\n",
    "\n",
    "$y = a\\cos(\\pi t) + b\\cos(2\\pi t) + c\\cos(3\\pi t) + d\\cos(4\\pi t)$\n",
    "\n",
    "donde $a$, $b$, $c$, and $d$ son parámetros. Construya un sistema de ecuaciones lineales y encuentre el valor de estos parámetros. Verifique su respuesta haciendo una gráfica."
   ]
  },
  {
   "cell_type": "markdown",
   "metadata": {},
   "source": [
    "# Mínimos cuadrados\n",
    "\n",
    "Volvamos por un momento al ejercicio de la parábola. Que pasaría si en realidad tuviéramos 10 mediciones? En ese caso la matriz $A$ sería de 10 por 3 y no podríamos encontrar una inversa. Aún así es interesante el problema de encontrar los parámetros de la parábola a partir de las mediciones. Aunque en este caso tenemos que olvidarnos de que la parábola pase por todos los puntos experimentales porque en general no lo va a hacer.\n",
    "\n",
    "Para este caso tenemos que definir un criterio para decir que los parámetros son los mejores. Un posible criterio es que la suma de los cuadrados entre la curva teórica y los datos sea mínima. ¿Cómo podemos entonces encontrar una solución para este caso?\n",
    "\n",
    "Cambiando un poco la notación pensemos que tenemos un vector $d$ de datos, un vector $m$ con los parámetros del modelo que queremos encontrar y una matriz $G$ que resume la información sobre la teoría físca que queremos utilizar para explicar los datos. De esta manera el problema se podría escribir como \n",
    "\n",
    "$G m = d$\n",
    "\n",
    "Donde $G$ en general no es invertible. Pero usando el criterio de mínimos cuadrados vamos a tener que el vector $m$ en realidad puede ser estimado por un vector $\\hat{m}$ que cumple la siguiente condición\n",
    "\n",
    "$G^T G \\hat{m} = G^{T}d$\n",
    "\n",
    "donde $T$ indica la transpuesta. Si ahora escribimos $G^{T}G=A$, $\\hat{m}=x$ y $G^{T}d=b$ volvemos al problema del principio y podemos encontrar fácilmente a $\\hat{m}$"
   ]
  },
  {
   "cell_type": "markdown",
   "metadata": {},
   "source": [
    "### Ejercicio 2\n",
    "Los datos siguientes\n",
    "https://raw.githubusercontent.com/ComputoCienciasUniandes/MetodosComputacionales/master/ejercicios/2018-10/05.SistemasEcuaciones/tendencia.dat\n",
    "\n",
    "Representan una coordenada temporal y una coordenada espacial de un movimiento unidimensional en un campo gravitacional. Encuentre el mejor valor posible de la posición inicial, velocidad inicial y gravedad. Verifique que sus valores son razonables con una gráfica."
   ]
  },
  {
   "cell_type": "code",
   "execution_count": null,
   "metadata": {
    "collapsed": false
   },
   "outputs": [],
   "source": [
    "data = np.loadtxt(\"tendencia.dat\")\n",
    "plt.scatter(data[:,0], data[:,1])"
   ]
  }
 ],
 "metadata": {
  "kernelspec": {
   "display_name": "Python 3",
   "language": "python",
   "name": "python3"
  },
  "language_info": {
   "codemirror_mode": {
    "name": "ipython",
    "version": 3
   },
   "file_extension": ".py",
   "mimetype": "text/x-python",
   "name": "python",
   "nbconvert_exporter": "python",
   "pygments_lexer": "ipython3",
   "version": "3.6.0"
  }
 },
 "nbformat": 4,
 "nbformat_minor": 0
}
