{
 "cells": [
  {
   "cell_type": "markdown",
   "metadata": {},
   "source": [
    "# Exercises"
   ]
  },
  {
   "cell_type": "code",
   "execution_count": 1,
   "metadata": {
    "collapsed": false
   },
   "outputs": [
    {
     "name": "stdout",
     "output_type": "stream",
     "text": [
      "Populating the interactive namespace from numpy and matplotlib\n"
     ]
    }
   ],
   "source": [
    "%pylab inline"
   ]
  },
  {
   "cell_type": "markdown",
   "metadata": {
    "slideshow": {
     "slide_type": "slide"
    }
   },
   "source": [
    "## Exercise 1 : trapezoidal integration\n",
    "\n",
    "In this exercise, you are tasked with implementing the simple trapezoid rule\n",
    "formula for numerical integration. If we want to compute the definite integral\n",
    "\n",
    "$$\n",
    "     \\int_{a}^{b}f(x)dx\n",
    "$$\n",
    "\n",
    "we can partition the integration interval $[a,b]$ into smaller subintervals. We then\n",
    "approximate the area under the curve for each subinterval by calculating the area of\n",
    "the trapezoid created by linearly interpolating between the two function values\n",
    "at each end of the subinterval:\n",
    "\n",
    "![Illustration of the trapezoidal rule](http://raw.github.com/SciTools/courses/master/course_content/images/trapezoidal_rule.png)\n",
    "\n",
    "\n",
    "<img src=\"http://upload.wikimedia.org/wikipedia/commons/thumb/d/dd/Trapezoidal_rule_illustration.png/316px-Trapezoidal_rule_illustration.png\" /img>\n",
    "\n",
    "The blue line represents the function $f(x)$ and the red line\n",
    "is the linear interpolation.  By subdividing the interval $[a,b]$, the area under $f(x)$ can thus be approximated as the sum of the areas of all\n",
    "the resulting trapezoids. \n"
   ]
  },
  {
   "cell_type": "markdown",
   "metadata": {
    "slideshow": {
     "slide_type": "subslide"
    }
   },
   "source": [
    "For a pre-computed $y$ array (where $y = f(x)$ at discrete samples) the trapezoidal rule equation is:\n",
    "\n",
    "$$\n",
    "   \\int_{a}^{b}f(x)dx\\approx\\frac{1}{2}\\sum_{i=1}^{n}\\left(x_{i}-x_{i-1}\\right)\\left(y_{i}+y_{i-1}\\right).\n",
    "$$\n",
    "\n",
    "In pure python, this can be written as:\n",
    "\n",
    "    def trapz_slow(x, y):\n",
    "        area = 0.\n",
    "        for i in range(1, len(x)):\n",
    "            area += (x[i] - x[i-1]) * (y[i] + y[i-1])\n",
    "        return area / 2"
   ]
  },
  {
   "cell_type": "markdown",
   "metadata": {
    "slideshow": {
     "slide_type": "subslide"
    }
   },
   "source": [
    "#### Part 1\n",
    "\n",
    "Create two arrays $x$ and $y$, where $x$ is a linearly spaced array in the interval $[3, 12]$ of length 10, and $y$ represents the function $f(x) = x^2- 8x + 24$ sampled at $x$."
   ]
  },
  {
   "cell_type": "code",
   "execution_count": 5,
   "metadata": {
    "collapsed": false
   },
   "outputs": [
    {
     "data": {
      "text/plain": [
       "<matplotlib.collections.PathCollection at 0x1066d2a90>"
      ]
     },
     "execution_count": 5,
     "metadata": {},
     "output_type": "execute_result"
    },
    {
     "data": {
      "image/png": "[encoded data removed]",
      "text/plain": [
       "<matplotlib.figure.Figure at 0x1066d2b38>"
      ]
     },
     "metadata": {},
     "output_type": "display_data"
    }
   ],
   "source": [
    "# declarar arreglos x,y\n",
    "n_points = 10000\n",
    "x = linspace(3,12,n_points)\n",
    "y = x**2 - 8*x +24\n",
    "plot(x,y)\n",
    "scatter(x,y)"
   ]
  },
  {
   "cell_type": "markdown",
   "metadata": {
    "slideshow": {
     "slide_type": "-"
    }
   },
   "source": [
    "#### Part 2\n",
    "\n",
    "Use indexing (not a for loop) to find the 9 values representing $y_{i}+y_{i-1}$ for $i$ between 1 and 9 (where $y_{0}$ is the first element of $y$).\n",
    "\n",
    "*Hint: What indexing would be needed to get all but the last element of the 1d array $y$. Similarly what indexing would be needed to get all but the first element of a 1d array.*"
   ]
  },
  {
   "cell_type": "code",
   "execution_count": 6,
   "metadata": {
    "collapsed": false
   },
   "outputs": [
    {
     "name": "stdout",
     "output_type": "stream",
     "text": [
      "[  9.           8.99820063   8.99640288 ...,  71.97120036  71.98559937  72.        ]\n",
      "[  8.99820063   8.99640288   8.99460675 ...,  71.97120036  71.98559937  72.        ]\n",
      "[  9.           8.99820063   8.99640288 ...,  71.95680297  71.97120036\n",
      "  71.98559937]\n",
      "[  17.99820063   17.99460351   17.99100963 ...,  143.92800333  143.95679973\n",
      "  143.98559937]\n"
     ]
    }
   ],
   "source": [
    "##\n",
    "print(y)\n",
    "print(y[1:])\n",
    "print(y[0:-1])\n",
    "print(y[1:]+ y[0:-1])"
   ]
  },
  {
   "cell_type": "markdown",
   "metadata": {
    "slideshow": {
     "slide_type": "-"
    }
   },
   "source": [
    "#### Part 3\n",
    "\n",
    "Write a function `trapz(x, y)` that applies the trapezoid formula to pre-computed values, where `x` and `y` are 1-d arrays. The function should not use a for loop."
   ]
  },
  {
   "cell_type": "code",
   "execution_count": 7,
   "metadata": {
    "collapsed": false
   },
   "outputs": [
    {
     "data": {
      "text/plain": [
       "243.000001215243"
      ]
     },
     "execution_count": 7,
     "metadata": {},
     "output_type": "execute_result"
    }
   ],
   "source": [
    "## regla del trapecio sin loops\n",
    "def trapz_vec(x,y):\n",
    "    return sum(0.5*(y[1:]+ y[0:-1])*(x[1:]- x[0:-1]))\n",
    "trapz_vec(x,y)"
   ]
  },
  {
   "cell_type": "markdown",
   "metadata": {
    "slideshow": {
     "slide_type": "-"
    }
   },
   "source": [
    "#### Part 4\n",
    "\n",
    "Verify that your function is correct by using the arrays created in #1 as input to ``trapz``. Your answer should be a close approximation of $\\int_3^{12} x^2 -8x + 24$ which is ?."
   ]
  },
  {
   "cell_type": "code",
   "execution_count": 8,
   "metadata": {
    "collapsed": false
   },
   "outputs": [
    {
     "name": "stdout",
     "output_type": "stream",
     "text": [
      "243.000001215\n",
      "243.000001215\n"
     ]
    }
   ],
   "source": [
    "def trapz_slow(x, y):\n",
    "    area = 0.\n",
    "    for i in range(1, len(x)):\n",
    "        area += (x[i] - x[i-1]) * (y[i] + y[i-1])\n",
    "    return area / 2\n",
    "\n",
    "print(trapz_slow(x,y))\n",
    "print(trapz_vec(x,y))"
   ]
  },
  {
   "cell_type": "code",
   "execution_count": 21,
   "metadata": {
    "collapsed": false
   },
   "outputs": [
    {
     "name": "stdout",
     "output_type": "stream",
     "text": [
      "[-1.5, -0.01239669421491385, -0.00012174336498560479, -1.215243003116484e-06, -1.2150223938078852e-08, -1.2155965123383794e-10]\n"
     ]
    },
    {
     "ename": "AttributeError",
     "evalue": "'function' object has no attribute 'log'",
     "output_type": "error",
     "traceback": [
      "\u001b[0;31m---------------------------------------------------------------------------\u001b[0m",
      "\u001b[0;31mAttributeError\u001b[0m                            Traceback (most recent call last)",
      "\u001b[0;32m<ipython-input-21-2326d263ffa5>\u001b[0m in \u001b[0;36m<module>\u001b[0;34m()\u001b[0m\n\u001b[1;32m     18\u001b[0m \u001b[0mprint\u001b[0m\u001b[0;34m(\u001b[0m\u001b[0merr\u001b[0m\u001b[0;34m)\u001b[0m\u001b[0;34m\u001b[0m\u001b[0m\n\u001b[1;32m     19\u001b[0m \u001b[0;34m\u001b[0m\u001b[0m\n\u001b[0;32m---> 20\u001b[0;31m \u001b[0mplot\u001b[0m\u001b[0;34m.\u001b[0m\u001b[0mlog\u001b[0m\u001b[0;34m(\u001b[0m\u001b[0merr\u001b[0m\u001b[0;34m,\u001b[0m\u001b[0mn_vec\u001b[0m\u001b[0;34m)\u001b[0m\u001b[0;34m\u001b[0m\u001b[0m\n\u001b[0m\u001b[1;32m     21\u001b[0m \u001b[0;34m\u001b[0m\u001b[0m\n",
      "\u001b[0;31mAttributeError\u001b[0m: 'function' object has no attribute 'log'"
     ]
    }
   ],
   "source": [
    "# vector de valores de n_points\n",
    "n_vec = [10,100,1000,10000,100000,1000000]\n",
    "valor_exacto = 243.0\n",
    "err = []\n",
    "\n",
    "#calcular la integral con trapz_vec\n",
    "# calcular el error para cada valor de n\n",
    "\n",
    "def trapz_vec_n(x,y,n_points):\n",
    "    x = linspace(3,12,n_points)\n",
    "    y = x**2 - 8*x +24\n",
    "    return sum(0.5*(y[1:]+ y[0:-1])*(x[1:]- x[0:-1]))\n",
    "\n",
    "for i in range(len(n_vec)):\n",
    "    x = linspace(3,12,n_vec[i])\n",
    "    y = x**2 - 8*x +24\n",
    "    err.append(243.0-trapz_vec(x,y))\n",
    "print(err)\n",
    "\n",
    "plot(err,n_vec)\n",
    "\n"
   ]
  },
  {
   "cell_type": "markdown",
   "metadata": {
    "slideshow": {
     "slide_type": "-"
    }
   },
   "source": [
    "#### Part 5 (extension)\n",
    "\n",
    "``scipy.integrate`` provides many common integration schemes.  Find a suitable function to perform the trapezoidal integration implemented above and check its result with your own:"
   ]
  },
  {
   "cell_type": "code",
   "execution_count": null,
   "metadata": {
    "collapsed": true
   },
   "outputs": [],
   "source": []
  },
  {
   "cell_type": "markdown",
   "metadata": {},
   "source": [
    "## Exercise 2\n",
    "\n",
    "Evaluate the integral\n",
    "\n",
    "$$\n",
    "\\int_0^3 \\int_2^4 \\frac{\\exp((-x_1 + -\\frac{{x_2}^2}{2} + x_1 x_2 +2x_1 - x_2 - 1)}{2\\pi}dx_1 dx_2\n",
    "$$\n"
   ]
  },
  {
   "cell_type": "markdown",
   "metadata": {},
   "source": [
    "# 2D integrals (using Monte-Carlo)\n",
    "\n",
    "The methods we have used might be extended to 2-D integrals but they quickly become cumbersome. Instead we will follow the path of Monte-Carlo integration for highly dimensional integrals.\n",
    "\n",
    "The principle is that to solve an integral in 2-D, we will generate a swarm of points in 3D within the intervals that we care: $x_{\\rm min}, x_{\\rm max}$, $y_{\\rm min}$, $y_{\\rm max}$, $f_{\\rm min}(x,y)$ and $f_{\\rm max}(x,y)$. \n",
    "\n",
    "Let's start with a concrete example. The integral of a 1-D gaussian:\n",
    "$$\n",
    "\\int_{-5}^{5} \\exp(-x^2)dx \\sim \\int_{-\\infty}^{\\infty}\\exp{(-x^2)} = \\sqrt{\\pi}\n",
    "$$"
   ]
  },
  {
   "cell_type": "markdown",
   "metadata": {},
   "source": [
    "# Integrals by mean value\n",
    "\n",
    "Now we introduce the more standard Monte-Carlo technique. It is based on the mean value theorem\n",
    "\n",
    "$$\n",
    "\\int_a^b f(x) = (b-a)\\langle f\\rangle\n",
    "$$\n",
    "\n",
    "In this way we can simply approximate the average value of $f$ as the average of different values $f(x_i)$ and we can write\n",
    "\n",
    "$$\n",
    "\\int_a^b f(x) = (b-a)\\frac{1}{N}\\sum_{i=1}^N f(x_i)\n",
    "$$\n",
    "\n",
    "where the $x_i$ are numbers randomly generated following a flat distribution in the range $a<x<b$.\n",
    "\n",
    "\n",
    "\n"
   ]
  },
  {
   "cell_type": "markdown",
   "metadata": {},
   "source": [
    "## Exercise 3\n",
    "\n",
    "Evaluate the 10-D integral\n",
    "\n",
    "$$\n",
    "\\int_0^1 dx_1 \\cdots\\int_0^1 dx_{10} (x_1 + x_2 +\\cdots+x_{10})^2\n",
    "$$\n",
    "\n",
    "and check our answer againts the analytical result $155/6$."
   ]
  }
 ],
 "metadata": {
  "kernelspec": {
   "display_name": "Python 3",
   "language": "python",
   "name": "python3"
  },
  "language_info": {
   "codemirror_mode": {
    "name": "ipython",
    "version": 3
   },
   "file_extension": ".py",
   "mimetype": "text/x-python",
   "name": "python",
   "nbconvert_exporter": "python",
   "pygments_lexer": "ipython3",
   "version": "3.4.3"
  }
 },
 "nbformat": 4,
 "nbformat_minor": 0
}
