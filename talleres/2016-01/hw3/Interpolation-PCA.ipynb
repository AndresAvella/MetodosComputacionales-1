{
 "cells": [
  {
   "cell_type": "markdown",
   "metadata": {
    "collapsed": true
   },
   "source": [
    "# Exercises - Interpolation (20 points)"
   ]
  },
  {
   "cell_type": "markdown",
   "metadata": {
    "collapsed": true
   },
   "source": [
    "A) -**5 points**- Write a program in Python that given a set of N points in $x$ and $y$ returns a plot of the interpolating Lagrange polynomial."
   ]
  },
  {
   "cell_type": "code",
   "execution_count": 1,
   "metadata": {
    "collapsed": true
   },
   "outputs": [],
   "source": [
    "import numpy as np\n",
    "import matplotlib.pyplot as plt\n",
    "% matplotlib inline"
   ]
  },
  {
   "cell_type": "markdown",
   "metadata": {},
   "source": [
    "Test it with the following arrays:"
   ]
  },
  {
   "cell_type": "code",
   "execution_count": 3,
   "metadata": {
    "collapsed": false
   },
   "outputs": [],
   "source": [
    "x_in = np.array([1.0,2.0,4.0,5.0,6.0,7.0,8.0])\n",
    "y_in = np.array([3.0,-2.0,2.0,4.0,1.0,2.0,3.0])"
   ]
  },
  {
   "cell_type": "markdown",
   "metadata": {},
   "source": [
    "B) -**10 points**- Find and plot the interpolating polinomials for the three set of points taken from the following function"
   ]
  },
  {
   "cell_type": "code",
   "execution_count": 4,
   "metadata": {
    "collapsed": true
   },
   "outputs": [],
   "source": [
    "def p(x):\n",
    "    return 1.0/(5.0-75.0*x**2)"
   ]
  },
  {
   "cell_type": "code",
   "execution_count": 5,
   "metadata": {
    "collapsed": false
   },
   "outputs": [
    {
     "name": "stdout",
     "output_type": "stream",
     "text": [
      "[-0.01428571  0.2        -0.01428571]\n",
      "[-0.01428571 -0.07272727  0.2        -0.07272727 -0.01428571]\n",
      "[-0.01428571 -0.02689076 -0.07272727  3.2         0.2         3.2\n",
      " -0.07272727 -0.02689076 -0.01428571]\n"
     ]
    }
   ],
   "source": [
    "a = np.linspace(-1.0,1.0,3)\n",
    "print(p(a))\n",
    "b = np.linspace(-1.0,1.0,5)\n",
    "print(p(b))\n",
    "c = np.linspace(-1.0,1.0,9)\n",
    "print(p(c))"
   ]
  },
  {
   "cell_type": "code",
   "execution_count": 6,
   "metadata": {
    "collapsed": false
   },
   "outputs": [
    {
     "data": {
      "text/plain": [
       "<matplotlib.collections.PathCollection at 0x1131d2810>"
      ]
     },
     "execution_count": 6,
     "metadata": {},
     "output_type": "execute_result"
    },
    {
     "data": {
      "image/png": "[encoded data removed]",
      "text/plain": [
       "<matplotlib.figure.Figure at 0x110bd2d10>"
      ]
     },
     "metadata": {},
     "output_type": "display_data"
    }
   ],
   "source": [
    "plt.scatter(a,p(a), color=\"black\", alpha=1.0, s=30)\n",
    "plt.scatter(b,p(b), color=\"red\", alpha=0.7,s=120)\n",
    "plt.scatter(c,p(c), color=\"green\", alpha=0.4,s=500)"
   ]
  },
  {
   "cell_type": "markdown",
   "metadata": {},
   "source": [
    "C) -**5 points**-\n",
    "Determine the quadratic polynomial $p(x)$ that interpolates the data\n",
    "$$\n",
    "(-1,3),~~(0,-1),~~(1,2)\n",
    "$$\n",
    "Using:\n",
    "- The Lagrange form of interpolating polynomials.\n",
    "- Linear Least Squares"
   ]
  },
  {
   "cell_type": "markdown",
   "metadata": {
    "collapsed": true
   },
   "source": [
    "# Exercises - PCA (80 points)\n",
    "\n",
    "Sugerencia: Usar pandas, el módulo PCA de sklearn.decomposition, y el módulo GMM de sklearn.mixture\n",
    "\n",
    "\n",
    "\n",
    "A) -**20 puntos**- Haga el Análisis de Componentes Principales (PCA) con dos componentes sobre los datos en el archivo 'lluvia.csv'. ¿Cuál es la varianza total explicada por tomar dos componentes?\n",
    "B) -**20 puntos**- Haga un gráfico de dispersión de ambas componentes, donde la escala de colores esté dada por el promedio de precipitación para cada estación. ¿Sirvió el PCA para distinguir unas estaciones de otras? Haga otro gráfico donde la escala de colores corresponda a la altura de la estación. ¿Hay alguna correlación con la altura?\n",
    "C) -**20 puntos**- Haga un análisis de clustering por Mixtura Gaussiana (GMM) sobre los componentes principales, con 2 y 3 clusters. Para cada caso, repita la gráfica de las componentes principales donde la escala de colores corresponda a la identificación de cada cluster, de manera que se vean las distintas \"poblaciones\" o clusters que produce el análisis de clustering. \n",
    "D) -**20 puntos**- Grafique el promedio mes-a-mes de precipitación para cada \"población\" o cluster, donde las barras de error estén dadas por la desviación estándar. ¿Hay algún comportamiento similar para cada \"población\"?\n",
    "E) -**10 puntos extra**- Grafique la ubicación geográfica de las estaciones que corresponden a cada \"población\". ¿Hay alguna correlación evidente? Justifique sus conclusiones\n",
    "F) Disculpen el spanglish\n",
    "\n",
    "\n",
    "Sobre la Mixtura Gaussiana: https://jakevdp.github.io/blog/2015/07/23/learning-seattles-work-habits-from-bicycle-counts/\n"
   ]
  }
 ],
 "metadata": {
  "kernelspec": {
   "display_name": "Python 2",
   "language": "python",
   "name": "python2"
  },
  "language_info": {
   "codemirror_mode": {
    "name": "ipython",
    "version": 2
   },
   "file_extension": ".py",
   "mimetype": "text/x-python",
   "name": "python",
   "nbconvert_exporter": "python",
   "pygments_lexer": "ipython2",
   "version": "2.7.10"
  }
 },
 "nbformat": 4,
 "nbformat_minor": 0
}
