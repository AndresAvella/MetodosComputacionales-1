{
 "cells": [
  {
   "cell_type": "code",
   "execution_count": 1,
   "metadata": {
    "collapsed": true
   },
   "outputs": [],
   "source": [
    "import sympy as spy\n",
    "\n",
    "spy.init_printing() # latex like output"
   ]
  },
  {
   "cell_type": "markdown",
   "metadata": {},
   "source": [
    "# Integral description"
   ]
  },
  {
   "cell_type": "code",
   "execution_count": 2,
   "metadata": {
    "collapsed": true
   },
   "outputs": [],
   "source": [
    "dim = 10\n",
    "limit = (0, 2)\n",
    "limits = [limit for i in range(dim)]\n",
    "\n",
    "def function(args):\n",
    "    return sum(args)**3"
   ]
  },
  {
   "cell_type": "markdown",
   "metadata": {},
   "source": [
    "# Symbols"
   ]
  },
  {
   "cell_type": "code",
   "execution_count": 3,
   "metadata": {
    "collapsed": false
   },
   "outputs": [
    {
     "data": {
      "image/png": "[encoded data removed]",
      "text/latex": [
       "$$\\left ( x_{0}, \\quad x_{1}, \\quad x_{2}, \\quad x_{3}, \\quad x_{4}, \\quad x_{5}, \\quad x_{6}, \\quad x_{7}, \\quad x_{8}, \\quad x_{9}\\right )$$"
      ],
      "text/plain": [
       "(x₀, x₁, x₂, x₃, x₄, x₅, x₆, x₇, x₈, x₉)"
      ]
     },
     "execution_count": 3,
     "metadata": {},
     "output_type": "execute_result"
    }
   ],
   "source": [
    "symbol_string = \" \".join([\"x_%d\"%i for i in range(dim)])\n",
    "symbols = spy.symbols(symbol_string)\n",
    "symbols"
   ]
  },
  {
   "cell_type": "markdown",
   "metadata": {},
   "source": [
    "# Function evaluation"
   ]
  },
  {
   "cell_type": "code",
   "execution_count": 4,
   "metadata": {
    "collapsed": false
   },
   "outputs": [
    {
     "data": {
      "image/png": "[encoded data removed]",
      "text/latex": [
       "$$\\left(x_{0} + x_{1} + x_{2} + x_{3} + x_{4} + x_{5} + x_{6} + x_{7} + x_{8} + x_{9}\\right)^{3}$$"
      ],
      "text/plain": [
       "                                                 3\n",
       "(x₀ + x₁ + x₂ + x₃ + x₄ + x₅ + x₆ + x₇ + x₈ + x₉) "
      ]
     },
     "execution_count": 4,
     "metadata": {},
     "output_type": "execute_result"
    }
   ],
   "source": [
    "value = function(symbols)\n",
    "value"
   ]
  },
  {
   "cell_type": "markdown",
   "metadata": {},
   "source": [
    "#### ...de lo que se salvaron..."
   ]
  },
  {
   "cell_type": "code",
   "execution_count": 5,
   "metadata": {
    "collapsed": false
   },
   "outputs": [
    {
     "data": {
      "image/png": "[encoded data removed]",
      "text/latex": [
       "$$x_{0}^{3} + 3 x_{0}^{2} x_{1} + 3 x_{0}^{2} x_{2} + 3 x_{0}^{2} x_{3} + 3 x_{0}^{2} x_{4} + 3 x_{0}^{2} x_{5} + 3 x_{0}^{2} x_{6} + 3 x_{0}^{2} x_{7} + 3 x_{0}^{2} x_{8} + 3 x_{0}^{2} x_{9} + 3 x_{0} x_{1}^{2} + 6 x_{0} x_{1} x_{2} + 6 x_{0} x_{1} x_{3} + 6 x_{0} x_{1} x_{4} + 6 x_{0} x_{1} x_{5} + 6 x_{0} x_{1} x_{6} + 6 x_{0} x_{1} x_{7} + 6 x_{0} x_{1} x_{8} + 6 x_{0} x_{1} x_{9} + 3 x_{0} x_{2}^{2} + 6 x_{0} x_{2} x_{3} + 6 x_{0} x_{2} x_{4} + 6 x_{0} x_{2} x_{5} + 6 x_{0} x_{2} x_{6} + 6 x_{0} x_{2} x_{7} + 6 x_{0} x_{2} x_{8} + 6 x_{0} x_{2} x_{9} + 3 x_{0} x_{3}^{2} + 6 x_{0} x_{3} x_{4} + 6 x_{0} x_{3} x_{5} + 6 x_{0} x_{3} x_{6} + 6 x_{0} x_{3} x_{7} + 6 x_{0} x_{3} x_{8} + 6 x_{0} x_{3} x_{9} + 3 x_{0} x_{4}^{2} + 6 x_{0} x_{4} x_{5} + 6 x_{0} x_{4} x_{6} + 6 x_{0} x_{4} x_{7} + 6 x_{0} x_{4} x_{8} + 6 x_{0} x_{4} x_{9} + 3 x_{0} x_{5}^{2} + 6 x_{0} x_{5} x_{6} + 6 x_{0} x_{5} x_{7} + 6 x_{0} x_{5} x_{8} + 6 x_{0} x_{5} x_{9} + 3 x_{0} x_{6}^{2} + 6 x_{0} x_{6} x_{7} + 6 x_{0} x_{6} x_{8} + 6 x_{0} x_{6} x_{9} + 3 x_{0} x_{7}^{2} + 6 x_{0} x_{7} x_{8} + 6 x_{0} x_{7} x_{9} + 3 x_{0} x_{8}^{2} + 6 x_{0} x_{8} x_{9} + 3 x_{0} x_{9}^{2} + x_{1}^{3} + 3 x_{1}^{2} x_{2} + 3 x_{1}^{2} x_{3} + 3 x_{1}^{2} x_{4} + 3 x_{1}^{2} x_{5} + 3 x_{1}^{2} x_{6} + 3 x_{1}^{2} x_{7} + 3 x_{1}^{2} x_{8} + 3 x_{1}^{2} x_{9} + 3 x_{1} x_{2}^{2} + 6 x_{1} x_{2} x_{3} + 6 x_{1} x_{2} x_{4} + 6 x_{1} x_{2} x_{5} + 6 x_{1} x_{2} x_{6} + 6 x_{1} x_{2} x_{7} + 6 x_{1} x_{2} x_{8} + 6 x_{1} x_{2} x_{9} + 3 x_{1} x_{3}^{2} + 6 x_{1} x_{3} x_{4} + 6 x_{1} x_{3} x_{5} + 6 x_{1} x_{3} x_{6} + 6 x_{1} x_{3} x_{7} + 6 x_{1} x_{3} x_{8} + 6 x_{1} x_{3} x_{9} + 3 x_{1} x_{4}^{2} + 6 x_{1} x_{4} x_{5} + 6 x_{1} x_{4} x_{6} + 6 x_{1} x_{4} x_{7} + 6 x_{1} x_{4} x_{8} + 6 x_{1} x_{4} x_{9} + 3 x_{1} x_{5}^{2} + 6 x_{1} x_{5} x_{6} + 6 x_{1} x_{5} x_{7} + 6 x_{1} x_{5} x_{8} + 6 x_{1} x_{5} x_{9} + 3 x_{1} x_{6}^{2} + 6 x_{1} x_{6} x_{7} + 6 x_{1} x_{6} x_{8} + 6 x_{1} x_{6} x_{9} + 3 x_{1} x_{7}^{2} + 6 x_{1} x_{7} x_{8} + 6 x_{1} x_{7} x_{9} + 3 x_{1} x_{8}^{2} + 6 x_{1} x_{8} x_{9} + 3 x_{1} x_{9}^{2} + x_{2}^{3} + 3 x_{2}^{2} x_{3} + 3 x_{2}^{2} x_{4} + 3 x_{2}^{2} x_{5} + 3 x_{2}^{2} x_{6} + 3 x_{2}^{2} x_{7} + 3 x_{2}^{2} x_{8} + 3 x_{2}^{2} x_{9} + 3 x_{2} x_{3}^{2} + 6 x_{2} x_{3} x_{4} + 6 x_{2} x_{3} x_{5} + 6 x_{2} x_{3} x_{6} + 6 x_{2} x_{3} x_{7} + 6 x_{2} x_{3} x_{8} + 6 x_{2} x_{3} x_{9} + 3 x_{2} x_{4}^{2} + 6 x_{2} x_{4} x_{5} + 6 x_{2} x_{4} x_{6} + 6 x_{2} x_{4} x_{7} + 6 x_{2} x_{4} x_{8} + 6 x_{2} x_{4} x_{9} + 3 x_{2} x_{5}^{2} + 6 x_{2} x_{5} x_{6} + 6 x_{2} x_{5} x_{7} + 6 x_{2} x_{5} x_{8} + 6 x_{2} x_{5} x_{9} + 3 x_{2} x_{6}^{2} + 6 x_{2} x_{6} x_{7} + 6 x_{2} x_{6} x_{8} + 6 x_{2} x_{6} x_{9} + 3 x_{2} x_{7}^{2} + 6 x_{2} x_{7} x_{8} + 6 x_{2} x_{7} x_{9} + 3 x_{2} x_{8}^{2} + 6 x_{2} x_{8} x_{9} + 3 x_{2} x_{9}^{2} + x_{3}^{3} + 3 x_{3}^{2} x_{4} + 3 x_{3}^{2} x_{5} + 3 x_{3}^{2} x_{6} + 3 x_{3}^{2} x_{7} + 3 x_{3}^{2} x_{8} + 3 x_{3}^{2} x_{9} + 3 x_{3} x_{4}^{2} + 6 x_{3} x_{4} x_{5} + 6 x_{3} x_{4} x_{6} + 6 x_{3} x_{4} x_{7} + 6 x_{3} x_{4} x_{8} + 6 x_{3} x_{4} x_{9} + 3 x_{3} x_{5}^{2} + 6 x_{3} x_{5} x_{6} + 6 x_{3} x_{5} x_{7} + 6 x_{3} x_{5} x_{8} + 6 x_{3} x_{5} x_{9} + 3 x_{3} x_{6}^{2} + 6 x_{3} x_{6} x_{7} + 6 x_{3} x_{6} x_{8} + 6 x_{3} x_{6} x_{9} + 3 x_{3} x_{7}^{2} + 6 x_{3} x_{7} x_{8} + 6 x_{3} x_{7} x_{9} + 3 x_{3} x_{8}^{2} + 6 x_{3} x_{8} x_{9} + 3 x_{3} x_{9}^{2} + x_{4}^{3} + 3 x_{4}^{2} x_{5} + 3 x_{4}^{2} x_{6} + 3 x_{4}^{2} x_{7} + 3 x_{4}^{2} x_{8} + 3 x_{4}^{2} x_{9} + 3 x_{4} x_{5}^{2} + 6 x_{4} x_{5} x_{6} + 6 x_{4} x_{5} x_{7} + 6 x_{4} x_{5} x_{8} + 6 x_{4} x_{5} x_{9} + 3 x_{4} x_{6}^{2} + 6 x_{4} x_{6} x_{7} + 6 x_{4} x_{6} x_{8} + 6 x_{4} x_{6} x_{9} + 3 x_{4} x_{7}^{2} + 6 x_{4} x_{7} x_{8} + 6 x_{4} x_{7} x_{9} + 3 x_{4} x_{8}^{2} + 6 x_{4} x_{8} x_{9} + 3 x_{4} x_{9}^{2} + x_{5}^{3} + 3 x_{5}^{2} x_{6} + 3 x_{5}^{2} x_{7} + 3 x_{5}^{2} x_{8} + 3 x_{5}^{2} x_{9} + 3 x_{5} x_{6}^{2} + 6 x_{5} x_{6} x_{7} + 6 x_{5} x_{6} x_{8} + 6 x_{5} x_{6} x_{9} + 3 x_{5} x_{7}^{2} + 6 x_{5} x_{7} x_{8} + 6 x_{5} x_{7} x_{9} + 3 x_{5} x_{8}^{2} + 6 x_{5} x_{8} x_{9} + 3 x_{5} x_{9}^{2} + x_{6}^{3} + 3 x_{6}^{2} x_{7} + 3 x_{6}^{2} x_{8} + 3 x_{6}^{2} x_{9} + 3 x_{6} x_{7}^{2} + 6 x_{6} x_{7} x_{8} + 6 x_{6} x_{7} x_{9} + 3 x_{6} x_{8}^{2} + 6 x_{6} x_{8} x_{9} + 3 x_{6} x_{9}^{2} + x_{7}^{3} + 3 x_{7}^{2} x_{8} + 3 x_{7}^{2} x_{9} + 3 x_{7} x_{8}^{2} + 6 x_{7} x_{8} x_{9} + 3 x_{7} x_{9}^{2} + x_{8}^{3} + 3 x_{8}^{2} x_{9} + 3 x_{8} x_{9}^{2} + x_{9}^{3}$$"
      ],
      "text/plain": [
       "  3       2          2          2          2          2          2          2 \n",
       "x₀  + 3⋅x₀ ⋅x₁ + 3⋅x₀ ⋅x₂ + 3⋅x₀ ⋅x₃ + 3⋅x₀ ⋅x₄ + 3⋅x₀ ⋅x₅ + 3⋅x₀ ⋅x₆ + 3⋅x₀ ⋅\n",
       "\n",
       "         2          2             2                                           \n",
       "x₇ + 3⋅x₀ ⋅x₈ + 3⋅x₀ ⋅x₉ + 3⋅x₀⋅x₁  + 6⋅x₀⋅x₁⋅x₂ + 6⋅x₀⋅x₁⋅x₃ + 6⋅x₀⋅x₁⋅x₄ + 6\n",
       "\n",
       "                                                                       2      \n",
       "⋅x₀⋅x₁⋅x₅ + 6⋅x₀⋅x₁⋅x₆ + 6⋅x₀⋅x₁⋅x₇ + 6⋅x₀⋅x₁⋅x₈ + 6⋅x₀⋅x₁⋅x₉ + 3⋅x₀⋅x₂  + 6⋅x\n",
       "\n",
       "                                                                              \n",
       "₀⋅x₂⋅x₃ + 6⋅x₀⋅x₂⋅x₄ + 6⋅x₀⋅x₂⋅x₅ + 6⋅x₀⋅x₂⋅x₆ + 6⋅x₀⋅x₂⋅x₇ + 6⋅x₀⋅x₂⋅x₈ + 6⋅x\n",
       "\n",
       "                 2                                                            \n",
       "₀⋅x₂⋅x₉ + 3⋅x₀⋅x₃  + 6⋅x₀⋅x₃⋅x₄ + 6⋅x₀⋅x₃⋅x₅ + 6⋅x₀⋅x₃⋅x₆ + 6⋅x₀⋅x₃⋅x₇ + 6⋅x₀⋅\n",
       "\n",
       "                            2                                                 \n",
       "x₃⋅x₈ + 6⋅x₀⋅x₃⋅x₉ + 3⋅x₀⋅x₄  + 6⋅x₀⋅x₄⋅x₅ + 6⋅x₀⋅x₄⋅x₆ + 6⋅x₀⋅x₄⋅x₇ + 6⋅x₀⋅x₄\n",
       "\n",
       "                          2                                                   \n",
       "⋅x₈ + 6⋅x₀⋅x₄⋅x₉ + 3⋅x₀⋅x₅  + 6⋅x₀⋅x₅⋅x₆ + 6⋅x₀⋅x₅⋅x₇ + 6⋅x₀⋅x₅⋅x₈ + 6⋅x₀⋅x₅⋅x\n",
       "\n",
       "           2                                                 2                \n",
       "₉ + 3⋅x₀⋅x₆  + 6⋅x₀⋅x₆⋅x₇ + 6⋅x₀⋅x₆⋅x₈ + 6⋅x₀⋅x₆⋅x₉ + 3⋅x₀⋅x₇  + 6⋅x₀⋅x₇⋅x₈ + \n",
       "\n",
       "                    2                       2     3       2          2        \n",
       "6⋅x₀⋅x₇⋅x₉ + 3⋅x₀⋅x₈  + 6⋅x₀⋅x₈⋅x₉ + 3⋅x₀⋅x₉  + x₁  + 3⋅x₁ ⋅x₂ + 3⋅x₁ ⋅x₃ + 3⋅\n",
       "\n",
       "  2          2          2          2          2          2             2      \n",
       "x₁ ⋅x₄ + 3⋅x₁ ⋅x₅ + 3⋅x₁ ⋅x₆ + 3⋅x₁ ⋅x₇ + 3⋅x₁ ⋅x₈ + 3⋅x₁ ⋅x₉ + 3⋅x₁⋅x₂  + 6⋅x\n",
       "\n",
       "                                                                              \n",
       "₁⋅x₂⋅x₃ + 6⋅x₁⋅x₂⋅x₄ + 6⋅x₁⋅x₂⋅x₅ + 6⋅x₁⋅x₂⋅x₆ + 6⋅x₁⋅x₂⋅x₇ + 6⋅x₁⋅x₂⋅x₈ + 6⋅x\n",
       "\n",
       "                 2                                                            \n",
       "₁⋅x₂⋅x₉ + 3⋅x₁⋅x₃  + 6⋅x₁⋅x₃⋅x₄ + 6⋅x₁⋅x₃⋅x₅ + 6⋅x₁⋅x₃⋅x₆ + 6⋅x₁⋅x₃⋅x₇ + 6⋅x₁⋅\n",
       "\n",
       "                            2                                                 \n",
       "x₃⋅x₈ + 6⋅x₁⋅x₃⋅x₉ + 3⋅x₁⋅x₄  + 6⋅x₁⋅x₄⋅x₅ + 6⋅x₁⋅x₄⋅x₆ + 6⋅x₁⋅x₄⋅x₇ + 6⋅x₁⋅x₄\n",
       "\n",
       "                          2                                                   \n",
       "⋅x₈ + 6⋅x₁⋅x₄⋅x₉ + 3⋅x₁⋅x₅  + 6⋅x₁⋅x₅⋅x₆ + 6⋅x₁⋅x₅⋅x₇ + 6⋅x₁⋅x₅⋅x₈ + 6⋅x₁⋅x₅⋅x\n",
       "\n",
       "           2                                                 2                \n",
       "₉ + 3⋅x₁⋅x₆  + 6⋅x₁⋅x₆⋅x₇ + 6⋅x₁⋅x₆⋅x₈ + 6⋅x₁⋅x₆⋅x₉ + 3⋅x₁⋅x₇  + 6⋅x₁⋅x₇⋅x₈ + \n",
       "\n",
       "                    2                       2     3       2          2        \n",
       "6⋅x₁⋅x₇⋅x₉ + 3⋅x₁⋅x₈  + 6⋅x₁⋅x₈⋅x₉ + 3⋅x₁⋅x₉  + x₂  + 3⋅x₂ ⋅x₃ + 3⋅x₂ ⋅x₄ + 3⋅\n",
       "\n",
       "  2          2          2          2          2             2                 \n",
       "x₂ ⋅x₅ + 3⋅x₂ ⋅x₆ + 3⋅x₂ ⋅x₇ + 3⋅x₂ ⋅x₈ + 3⋅x₂ ⋅x₉ + 3⋅x₂⋅x₃  + 6⋅x₂⋅x₃⋅x₄ + 6\n",
       "\n",
       "                                                                       2      \n",
       "⋅x₂⋅x₃⋅x₅ + 6⋅x₂⋅x₃⋅x₆ + 6⋅x₂⋅x₃⋅x₇ + 6⋅x₂⋅x₃⋅x₈ + 6⋅x₂⋅x₃⋅x₉ + 3⋅x₂⋅x₄  + 6⋅x\n",
       "\n",
       "                                                                     2        \n",
       "₂⋅x₄⋅x₅ + 6⋅x₂⋅x₄⋅x₆ + 6⋅x₂⋅x₄⋅x₇ + 6⋅x₂⋅x₄⋅x₈ + 6⋅x₂⋅x₄⋅x₉ + 3⋅x₂⋅x₅  + 6⋅x₂⋅\n",
       "\n",
       "                                                      2                       \n",
       "x₅⋅x₆ + 6⋅x₂⋅x₅⋅x₇ + 6⋅x₂⋅x₅⋅x₈ + 6⋅x₂⋅x₅⋅x₉ + 3⋅x₂⋅x₆  + 6⋅x₂⋅x₆⋅x₇ + 6⋅x₂⋅x₆\n",
       "\n",
       "                          2                                    2              \n",
       "⋅x₈ + 6⋅x₂⋅x₆⋅x₉ + 3⋅x₂⋅x₇  + 6⋅x₂⋅x₇⋅x₈ + 6⋅x₂⋅x₇⋅x₉ + 3⋅x₂⋅x₈  + 6⋅x₂⋅x₈⋅x₉ \n",
       "\n",
       "         2     3       2          2          2          2          2          \n",
       "+ 3⋅x₂⋅x₉  + x₃  + 3⋅x₃ ⋅x₄ + 3⋅x₃ ⋅x₅ + 3⋅x₃ ⋅x₆ + 3⋅x₃ ⋅x₇ + 3⋅x₃ ⋅x₈ + 3⋅x₃\n",
       "\n",
       "2             2                                                               \n",
       " ⋅x₉ + 3⋅x₃⋅x₄  + 6⋅x₃⋅x₄⋅x₅ + 6⋅x₃⋅x₄⋅x₆ + 6⋅x₃⋅x₄⋅x₇ + 6⋅x₃⋅x₄⋅x₈ + 6⋅x₃⋅x₄⋅\n",
       "\n",
       "            2                                                              2  \n",
       "x₉ + 3⋅x₃⋅x₅  + 6⋅x₃⋅x₅⋅x₆ + 6⋅x₃⋅x₅⋅x₇ + 6⋅x₃⋅x₅⋅x₈ + 6⋅x₃⋅x₅⋅x₉ + 3⋅x₃⋅x₆  +\n",
       "\n",
       "                                               2                              \n",
       " 6⋅x₃⋅x₆⋅x₇ + 6⋅x₃⋅x₆⋅x₈ + 6⋅x₃⋅x₆⋅x₉ + 3⋅x₃⋅x₇  + 6⋅x₃⋅x₇⋅x₈ + 6⋅x₃⋅x₇⋅x₉ + 3\n",
       "\n",
       "      2                       2     3       2          2          2          2\n",
       "⋅x₃⋅x₈  + 6⋅x₃⋅x₈⋅x₉ + 3⋅x₃⋅x₉  + x₄  + 3⋅x₄ ⋅x₅ + 3⋅x₄ ⋅x₆ + 3⋅x₄ ⋅x₇ + 3⋅x₄ \n",
       "\n",
       "          2             2                                                     \n",
       "⋅x₈ + 3⋅x₄ ⋅x₉ + 3⋅x₄⋅x₅  + 6⋅x₄⋅x₅⋅x₆ + 6⋅x₄⋅x₅⋅x₇ + 6⋅x₄⋅x₅⋅x₈ + 6⋅x₄⋅x₅⋅x₉ \n",
       "\n",
       "         2                                                 2                  \n",
       "+ 3⋅x₄⋅x₆  + 6⋅x₄⋅x₆⋅x₇ + 6⋅x₄⋅x₆⋅x₈ + 6⋅x₄⋅x₆⋅x₉ + 3⋅x₄⋅x₇  + 6⋅x₄⋅x₇⋅x₈ + 6⋅\n",
       "\n",
       "                  2                       2     3       2          2          \n",
       "x₄⋅x₇⋅x₉ + 3⋅x₄⋅x₈  + 6⋅x₄⋅x₈⋅x₉ + 3⋅x₄⋅x₉  + x₅  + 3⋅x₅ ⋅x₆ + 3⋅x₅ ⋅x₇ + 3⋅x₅\n",
       "\n",
       "2          2             2                                                 2  \n",
       " ⋅x₈ + 3⋅x₅ ⋅x₉ + 3⋅x₅⋅x₆  + 6⋅x₅⋅x₆⋅x₇ + 6⋅x₅⋅x₆⋅x₈ + 6⋅x₅⋅x₆⋅x₉ + 3⋅x₅⋅x₇  +\n",
       "\n",
       "                                  2                       2     3       2     \n",
       " 6⋅x₅⋅x₇⋅x₈ + 6⋅x₅⋅x₇⋅x₉ + 3⋅x₅⋅x₈  + 6⋅x₅⋅x₈⋅x₉ + 3⋅x₅⋅x₉  + x₆  + 3⋅x₆ ⋅x₇ +\n",
       "\n",
       "     2          2             2                                    2          \n",
       " 3⋅x₆ ⋅x₈ + 3⋅x₆ ⋅x₉ + 3⋅x₆⋅x₇  + 6⋅x₆⋅x₇⋅x₈ + 6⋅x₆⋅x₇⋅x₉ + 3⋅x₆⋅x₈  + 6⋅x₆⋅x₈\n",
       "\n",
       "             2     3       2          2             2                       2 \n",
       "⋅x₉ + 3⋅x₆⋅x₉  + x₇  + 3⋅x₇ ⋅x₈ + 3⋅x₇ ⋅x₉ + 3⋅x₇⋅x₈  + 6⋅x₇⋅x₈⋅x₉ + 3⋅x₇⋅x₉  \n",
       "\n",
       "    3       2             2     3\n",
       "+ x₈  + 3⋅x₈ ⋅x₉ + 3⋅x₈⋅x₉  + x₉ "
      ]
     },
     "execution_count": 5,
     "metadata": {},
     "output_type": "execute_result"
    }
   ],
   "source": [
    "value.expand()"
   ]
  },
  {
   "cell_type": "code",
   "execution_count": 6,
   "metadata": {
    "collapsed": false
   },
   "outputs": [
    {
     "data": {
      "image/png": "[encoded data removed]",
      "text/latex": [
       "$$\\left [ \\left ( x_{0}, \\quad 0, \\quad 2\\right ), \\quad \\left ( x_{1}, \\quad 0, \\quad 2\\right ), \\quad \\left ( x_{2}, \\quad 0, \\quad 2\\right ), \\quad \\left ( x_{3}, \\quad 0, \\quad 2\\right ), \\quad \\left ( x_{4}, \\quad 0, \\quad 2\\right ), \\quad \\left ( x_{5}, \\quad 0, \\quad 2\\right ), \\quad \\left ( x_{6}, \\quad 0, \\quad 2\\right ), \\quad \\left ( x_{7}, \\quad 0, \\quad 2\\right ), \\quad \\left ( x_{8}, \\quad 0, \\quad 2\\right ), \\quad \\left ( x_{9}, \\quad 0, \\quad 2\\right )\\right ]$$"
      ],
      "text/plain": [
       "[(x₀, 0, 2), (x₁, 0, 2), (x₂, 0, 2), (x₃, 0, 2), (x₄, 0, 2), (x₅, 0, 2), (x₆, \n",
       "0, 2), (x₇, 0, 2), (x₈, 0, 2), (x₉, 0, 2)]"
      ]
     },
     "execution_count": 6,
     "metadata": {},
     "output_type": "execute_result"
    }
   ],
   "source": [
    "intervals = [(sym, limit[0], limit[1]) \\\n",
    "             for (sym, limit) in zip(symbols, limits)]\n",
    "intervals"
   ]
  },
  {
   "cell_type": "markdown",
   "metadata": {},
   "source": [
    "# Integral"
   ]
  },
  {
   "cell_type": "code",
   "execution_count": 7,
   "metadata": {
    "collapsed": false
   },
   "outputs": [
    {
     "name": "stdout",
     "output_type": "stream",
     "text": [
      "CPU times: user 7.03 s, sys: 8 ms, total: 7.04 s\n",
      "Wall time: 7.04 s\n"
     ]
    },
    {
     "data": {
      "image/png": "[encoded data removed]",
      "text/latex": [
       "$$1126400$$"
      ],
      "text/plain": [
       "1126400"
      ]
     },
     "execution_count": 7,
     "metadata": {},
     "output_type": "execute_result"
    }
   ],
   "source": [
    "%time spy.integrate(value, *intervals)"
   ]
  }
 ],
 "metadata": {
  "anaconda-cloud": {},
  "kernelspec": {
   "display_name": "Python [conda root]",
   "language": "python",
   "name": "conda-root-py"
  },
  "language_info": {
   "codemirror_mode": {
    "name": "ipython",
    "version": 3
   },
   "file_extension": ".py",
   "mimetype": "text/x-python",
   "name": "python",
   "nbconvert_exporter": "python",
   "pygments_lexer": "ipython3",
   "version": "3.4.4"
  }
 },
 "nbformat": 4,
 "nbformat_minor": 2
}
