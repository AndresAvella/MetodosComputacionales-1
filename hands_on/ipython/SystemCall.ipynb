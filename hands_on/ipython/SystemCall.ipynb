{
 "metadata": {
  "name": "",
  "signature": "sha256:c2ee7982cb03fc859368bddb01d35a79b86535cfe0571bb845ed6373d97ad91b"
 },
 "nbformat": 3,
 "nbformat_minor": 0,
 "worksheets": [
  {
   "cells": [
    {
     "cell_type": "code",
     "collapsed": false,
     "input": [
      "from subprocess import call"
     ],
     "language": "python",
     "metadata": {},
     "outputs": [],
     "prompt_number": 1
    },
    {
     "cell_type": "code",
     "collapsed": false,
     "input": [
      "!cat hola.c"
     ],
     "language": "python",
     "metadata": {},
     "outputs": [
      {
       "output_type": "stream",
       "stream": "stdout",
       "text": [
        "#include <stdio.h>\r\n",
        "#include <stdlib.h>\r\n",
        "\r\n",
        "int main(int argc, char **argv){\r\n",
        "  int i,n;\r\n",
        "  n=atoi(argv[1]);\r\n",
        "  \r\n",
        "  for(i=0;i<n;i++){\r\n",
        "    printf(\"Hola, tengo hambre! %d\\n\", i);\r\n",
        "  }\r\n",
        "  return 0;\r\n",
        "}\r\n"
       ]
      }
     ],
     "prompt_number": 3
    },
    {
     "cell_type": "code",
     "collapsed": false,
     "input": [
      "!cc hola.c -o hola.x"
     ],
     "language": "python",
     "metadata": {},
     "outputs": [],
     "prompt_number": 4
    },
    {
     "cell_type": "code",
     "collapsed": false,
     "input": [
      "!ls\n",
      "!rm -f tmp.out"
     ],
     "language": "python",
     "metadata": {},
     "outputs": [
      {
       "output_type": "stream",
       "stream": "stdout",
       "text": [
        "HomogeneousSphere.ipynb     QuickTour.ipynb             TourBasico.ipynb            \u001b[34mdata\u001b[m\u001b[m                        \u001b[31mhola.x\u001b[m\u001b[m\r\n",
        "NuevoTour.ipynb             SystemCall.ipynb            contacto_de_JaimeForero.txt hola.c\r\n"
       ]
      }
     ],
     "prompt_number": 5
    },
    {
     "cell_type": "code",
     "collapsed": false,
     "input": [
      "for i in range(4,7):\n",
      "    command = \"./hola.x %d >> tmp.out\"%(i)\n",
      "    print(command)\n",
      "    retcode = call(command,shell=True)"
     ],
     "language": "python",
     "metadata": {},
     "outputs": [
      {
       "output_type": "stream",
       "stream": "stdout",
       "text": [
        "./hola.x 4 >> tmp.out\n",
        "./hola.x 5 >> tmp.out\n",
        "./hola.x 6 >> tmp.out"
       ]
      },
      {
       "output_type": "stream",
       "stream": "stdout",
       "text": [
        "\n"
       ]
      }
     ],
     "prompt_number": 6
    },
    {
     "cell_type": "code",
     "collapsed": false,
     "input": [
      "!cat tmp.out"
     ],
     "language": "python",
     "metadata": {},
     "outputs": [
      {
       "output_type": "stream",
       "stream": "stdout",
       "text": [
        "Hola, tengo hambre! 0\r\n",
        "Hola, tengo hambre! 1\r\n",
        "Hola, tengo hambre! 2\r\n",
        "Hola, tengo hambre! 3\r\n",
        "Hola, tengo hambre! 0\r\n",
        "Hola, tengo hambre! 1\r\n",
        "Hola, tengo hambre! 2\r\n",
        "Hola, tengo hambre! 3\r\n",
        "Hola, tengo hambre! 4\r\n",
        "Hola, tengo hambre! 0\r\n",
        "Hola, tengo hambre! 1\r\n",
        "Hola, tengo hambre! 2\r\n",
        "Hola, tengo hambre! 3\r\n",
        "Hola, tengo hambre! 4\r\n",
        "Hola, tengo hambre! 5\r\n"
       ]
      }
     ],
     "prompt_number": 7
    }
   ],
   "metadata": {}
  }
 ]
}