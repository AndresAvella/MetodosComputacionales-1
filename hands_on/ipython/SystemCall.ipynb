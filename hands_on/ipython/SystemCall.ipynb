{
 "metadata": {
  "name": ""
 },
 "nbformat": 3,
 "nbformat_minor": 0,
 "worksheets": [
  {
   "cells": [
    {
     "cell_type": "code",
     "collapsed": false,
     "input": [
      "from subprocess import call"
     ],
     "language": "python",
     "metadata": {},
     "outputs": [],
     "prompt_number": 1
    },
    {
     "cell_type": "code",
     "collapsed": false,
     "input": [
      "!cat hola.c"
     ],
     "language": "python",
     "metadata": {},
     "outputs": [
      {
       "output_type": "stream",
       "stream": "stdout",
       "text": [
        "#include <stdio.h>\r\n",
        "#include <stdlib.h>\r\n",
        "\r\n",
        "int main(int argc, char **argv){\r\n",
        "  int i,n;\r\n",
        "  n=atoi(argv[1]);\r\n",
        "  \r\n",
        "  for(i=0;i<n;i++){\r\n",
        "    printf(\"Hola %d\\n\", i);\r\n",
        "  }\r\n",
        "  return 0;\r\n",
        "}\r\n"
       ]
      }
     ],
     "prompt_number": 2
    },
    {
     "cell_type": "code",
     "collapsed": false,
     "input": [
      "!cc hola.c -o hola.x"
     ],
     "language": "python",
     "metadata": {},
     "outputs": [],
     "prompt_number": 3
    },
    {
     "cell_type": "code",
     "collapsed": false,
     "input": [
      "!ls\n",
      "!rm -f tmp.out"
     ],
     "language": "python",
     "metadata": {},
     "outputs": [
      {
       "output_type": "stream",
       "stream": "stdout",
       "text": [
        "2011.csv  contacto_de_JaimeForero.txt  hola.c  hola.c~\thola.x\tQuickTour.ipynb  SystemCall.ipynb  tmp.out  TourBasico.ipynb\r\n"
       ]
      }
     ],
     "prompt_number": 7
    },
    {
     "cell_type": "code",
     "collapsed": false,
     "input": [
      "for i in range(4,7):\n",
      "    command = \"./hola.x %d >> tmp.out\"%(i)\n",
      "    print command\n",
      "    retcode = call(command,shell=True)"
     ],
     "language": "python",
     "metadata": {},
     "outputs": [
      {
       "output_type": "stream",
       "stream": "stdout",
       "text": [
        "./hola.x 4 >> tmp.out\n",
        "./hola.x 5 >> tmp.out\n",
        "./hola.x 6 >> tmp.out\n"
       ]
      }
     ],
     "prompt_number": 8
    },
    {
     "cell_type": "code",
     "collapsed": false,
     "input": [
      "!cat tmp.out"
     ],
     "language": "python",
     "metadata": {},
     "outputs": [
      {
       "output_type": "stream",
       "stream": "stdout",
       "text": [
        "Hola 0\r\n",
        "Hola 1\r\n",
        "Hola 2\r\n",
        "Hola 3\r\n",
        "Hola 0\r\n",
        "Hola 1\r\n",
        "Hola 2\r\n",
        "Hola 3\r\n",
        "Hola 4\r\n",
        "Hola 0\r\n",
        "Hola 1\r\n",
        "Hola 2\r\n",
        "Hola 3\r\n",
        "Hola 4\r\n",
        "Hola 5\r\n"
       ]
      }
     ],
     "prompt_number": 9
    }
   ],
   "metadata": {}
  }
 ]
}