{
 "metadata": {
  "name": ""
 },
 "nbformat": 3,
 "nbformat_minor": 0,
 "worksheets": [
  {
   "cells": [
    {
     "cell_type": "code",
     "collapsed": false,
     "input": [
      "%pylab inline"
     ],
     "language": "python",
     "metadata": {},
     "outputs": [
      {
       "output_type": "stream",
       "stream": "stdout",
       "text": [
        "Populating the interactive namespace from numpy and matplotlib\n"
       ]
      }
     ],
     "prompt_number": 1
    },
    {
     "cell_type": "code",
     "collapsed": false,
     "input": [
      "n_points = 10000\n",
      "phi = pi*random.random(n_points)\n",
      "theta = 2.0*pi*random.random(n_points)\n",
      "x = sin(theta)*cos(phi)\n",
      "y = sin(theta)*sin(phi)\n",
      "z = cos(phi)"
     ],
     "language": "python",
     "metadata": {},
     "outputs": [],
     "prompt_number": 3
    },
    {
     "cell_type": "code",
     "collapsed": false,
     "input": [
      "dataout=\"testA.dat\"\n",
      "out = open(dataout,\"w\")\n",
      "for i in range(n_points):\n",
      "    out.write(\"%f %f %f\\n\"%(x[i], y[i], z[i]))\n",
      "out.close()"
     ],
     "language": "python",
     "metadata": {},
     "outputs": [],
     "prompt_number": 5
    },
    {
     "cell_type": "code",
     "collapsed": false,
     "input": [
      "n_points = 10000\n",
      "phi = 2.0*pi*random.random(n_points)\n",
      "theta = pi*random.random(n_points)\n",
      "x = sin(theta)*cos(phi)\n",
      "y = sin(theta)*sin(phi)\n",
      "z = cos(theta)\n"
     ],
     "language": "python",
     "metadata": {},
     "outputs": [],
     "prompt_number": 6
    },
    {
     "cell_type": "code",
     "collapsed": false,
     "input": [
      "dataout=\"testB.dat\"\n",
      "out = open(dataout,\"w\")\n",
      "for i in range(n_points):\n",
      "    out.write(\"%f %f %f\\n\"%(x[i], y[i], z[i]))\n",
      "out.close()"
     ],
     "language": "python",
     "metadata": {},
     "outputs": [],
     "prompt_number": 8
    },
    {
     "cell_type": "code",
     "collapsed": false,
     "input": [
      "n_points = 10000\n",
      "phi = 2.0*pi*random.random(n_points)\n",
      "theta = arccos(2.0*(random.random(n_points)-0.5))\n",
      "x = sin(theta)*cos(phi)\n",
      "y = sin(theta)*sin(phi)\n",
      "z = cos(theta)"
     ],
     "language": "python",
     "metadata": {},
     "outputs": [],
     "prompt_number": 9
    },
    {
     "cell_type": "code",
     "collapsed": false,
     "input": [
      "dataout=\"testC.dat\"\n",
      "out = open(dataout,\"w\")\n",
      "for i in range(n_points):\n",
      "    out.write(\"%f %f %f\\n\"%(x[i], y[i], z[i]))\n",
      "out.close()"
     ],
     "language": "python",
     "metadata": {},
     "outputs": [],
     "prompt_number": 10
    }
   ],
   "metadata": {}
  }
 ]
}