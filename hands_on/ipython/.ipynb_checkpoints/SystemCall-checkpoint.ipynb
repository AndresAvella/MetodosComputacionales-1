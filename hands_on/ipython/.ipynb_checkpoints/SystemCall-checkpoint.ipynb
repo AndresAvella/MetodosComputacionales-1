{
 "metadata": {
  "name": "",
  "signature": "sha256:df4f0599e74072c78745c45d5296de25626857a2ab806868e47dcbb5f8b68398"
 },
 "nbformat": 3,
 "nbformat_minor": 0,
 "worksheets": [
  {
   "cells": [
    {
     "cell_type": "code",
     "collapsed": false,
     "input": [
      "from subprocess import call"
     ],
     "language": "python",
     "metadata": {},
     "outputs": [],
     "prompt_number": 1
    },
    {
     "cell_type": "code",
     "collapsed": false,
     "input": [
      "!cat hola.c"
     ],
     "language": "python",
     "metadata": {},
     "outputs": [
      {
       "output_type": "stream",
       "stream": "stdout",
       "text": [
        "#include <stdio.h>\r\n",
        "#include <stdlib.h>\r\n",
        "\r\n",
        "int main(int argc, char **argv){\r\n",
        "  int i,n;\r\n",
        "  n=atoi(argv[1]);\r\n",
        "  \r\n",
        "  for(i=0;i<n;i++){\r\n",
        "    printf(\"Hola, tengo hambre! %d\\n\", i);\r\n",
        "  }\r\n",
        "  return 0;\r\n",
        "}\r\n"
       ]
      }
     ],
     "prompt_number": 2
    },
    {
     "cell_type": "code",
     "collapsed": false,
     "input": [
      "!cc hola.c -o hola.x"
     ],
     "language": "python",
     "metadata": {},
     "outputs": [],
     "prompt_number": 3
    },
    {
     "cell_type": "code",
     "collapsed": false,
     "input": [
      "!ls\n",
      "#!rm -f tmp.out"
     ],
     "language": "python",
     "metadata": {},
     "outputs": [
      {
       "output_type": "stream",
       "stream": "stdout",
       "text": [
        "HomogeneousSphere.ipynb     Untitled0.ipynb\r\n",
        "NuevoTour.ipynb             contacto_de_JaimeForero.txt\r\n",
        "QuickTour.ipynb             \u001b[34mdata\u001b[m\u001b[m\r\n",
        "SystemCall.ipynb            hola.c\r\n",
        "TourBasico.ipynb            \u001b[31mhola.x\u001b[m\u001b[m\r\n"
       ]
      }
     ],
     "prompt_number": 6
    },
    {
     "cell_type": "code",
     "collapsed": false,
     "input": [
      "for i in range(4,7):\n",
      "    command = \"./hola.x %d >> tmp.out\"%(i)\n",
      "    print(command)\n",
      "    retcode = call(command,shell=True)"
     ],
     "language": "python",
     "metadata": {},
     "outputs": [
      {
       "ename": "SyntaxError",
       "evalue": "Missing parentheses in call to 'print' (<ipython-input-5-40e087f5742f>, line 3)",
       "output_type": "pyerr",
       "traceback": [
        "\u001b[0;36m  File \u001b[0;32m\"<ipython-input-5-40e087f5742f>\"\u001b[0;36m, line \u001b[0;32m3\u001b[0m\n\u001b[0;31m    print command\u001b[0m\n\u001b[0m                ^\u001b[0m\n\u001b[0;31mSyntaxError\u001b[0m\u001b[0;31m:\u001b[0m Missing parentheses in call to 'print'\n"
       ]
      }
     ],
     "prompt_number": 5
    },
    {
     "cell_type": "code",
     "collapsed": false,
     "input": [
      "!cat tmp.out"
     ],
     "language": "python",
     "metadata": {},
     "outputs": [
      {
       "output_type": "stream",
       "stream": "stdout",
       "text": [
        "Hola 0\r\n",
        "Hola 1\r\n",
        "Hola 2\r\n",
        "Hola 3\r\n",
        "Hola 0\r\n",
        "Hola 1\r\n",
        "Hola 2\r\n",
        "Hola 3\r\n",
        "Hola 4\r\n",
        "Hola 0\r\n",
        "Hola 1\r\n",
        "Hola 2\r\n",
        "Hola 3\r\n",
        "Hola 4\r\n",
        "Hola 5\r\n"
       ]
      }
     ],
     "prompt_number": 9
    }
   ],
   "metadata": {}
  }
 ]
}