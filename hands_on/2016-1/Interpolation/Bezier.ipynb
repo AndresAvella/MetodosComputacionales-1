{
 "cells": [
  {
   "cell_type": "markdown",
   "metadata": {},
   "source": [
    "Notebook basado en: http://bitworking.org/projects/ipython/bezier.html\n",
    "\n",
    "http://stat-www.berkeley.edu/users/juliab/141C/pearson.dat\n",
    "\n",
    "Para leer en casa:\n",
    "\n",
    "http://cagd.cs.byu.edu/~557/text/ch6.pdf\n",
    "\n",
    "http://nbviewer.jupyter.org/gist/dbarbeau/8b5ae150a65ce144a1bb"
   ]
  },
  {
   "cell_type": "markdown",
   "metadata": {},
   "source": [
    "The Quadratic Bézier curve is a function of t, where t ranges from 0 to 1.\n",
    "\n",
    "$\\mathbf{B}(t) = (1 - t)^{2}\\mathbf{P}_0 + 2(1 - t)t\\mathbf{P}_1 + t^{2}\\mathbf{P}_2 \\mbox{ , } t \\in [0,1].$\n",
    "\n",
    "Where $\\mathbf{P}_n$ are the control points. So if we define the function in a way we can use it, and then define some values for the control points:"
   ]
  },
  {
   "cell_type": "code",
   "execution_count": null,
   "metadata": {
    "collapsed": true
   },
   "outputs": [],
   "source": [
    "def B(t):\n",
    "    return (1-t)**2*p0 + 2*t*(1-t)*p1 + t**2*p2\n",
    "\n",
    "p0 = np.array([0, 0])\n",
    "p1 = np.array([1.5, 1])\n",
    "p2 = np.array([2, 0])"
   ]
  },
  {
   "cell_type": "code",
   "execution_count": null,
   "metadata": {
    "collapsed": true
   },
   "outputs": [],
   "source": [
    "xy = np.array([B(t) for t in np.linspace(0, 1, 20)]).T\n",
    "plot(xy[0], xy[1])"
   ]
  },
  {
   "cell_type": "markdown",
   "metadata": {},
   "source": [
    "The Cubic Bézier curve has the form of:\n",
    "$\\mathbf{R}(t)=(1-t)^3\\mathbf{P}_0+3(1-t)^2t\\mathbf{P}_1+3(1-t)t^2\\mathbf{P}_2+t^3\\mathbf{P}_3 \\mbox{ , } t \\in [0,1].$\n",
    "Again, we can define the function and plot it for a given set of points:"
   ]
  },
  {
   "cell_type": "code",
   "execution_count": null,
   "metadata": {
    "collapsed": true
   },
   "outputs": [],
   "source": [
    "def R(t):\n",
    "    return (1-t)**3 * p0 + 3 * t * (1-t)**2 * p1 + 3 * t**2 * (1-t) * p2 + t**3 * p3"
   ]
  },
  {
   "cell_type": "code",
   "execution_count": null,
   "metadata": {
    "collapsed": true
   },
   "outputs": [],
   "source": [
    "def Q(t, p0, p1, p2, p3):\n",
    "    return (((1-t)**3)/(6)) * p0 + ((3*t**3 -6*t**2 + 4)/(6)) * p1 + ((-3*t**3 + 3*t**2 + 3*t + 1)/(6)) * p2 + ((t**3)/(6)) * p3"
   ]
  },
  {
   "cell_type": "code",
   "execution_count": null,
   "metadata": {
    "collapsed": true
   },
   "outputs": [],
   "source": [
    "p4 = np.array([-1, -1])\n",
    "p5 = np.array([1, 3])"
   ]
  },
  {
   "cell_type": "code",
   "execution_count": null,
   "metadata": {
    "collapsed": true
   },
   "outputs": [],
   "source": [
    "xy = np.array([Q(t, p0, p1, p2, p3) for t in np.linspace(0, 1, 30)]).T\n",
    "plot(xy[0], xy[1])\n",
    "xy = np.array([Q(t, p1, p2, p3, p4) for t in np.linspace(0, 1, 30)]).T\n",
    "plot(xy[0], xy[1])\n",
    "xy = np.array([Q(t, p2, p3, p4, p5) for t in np.linspace(0, 1, 30)]).T\n",
    "plot(xy[0], xy[1])\n",
    "xy = np.array([Q(t, p3, p4, p5, p0) for t in np.linspace(0, 1, 30)]).T\n",
    "plot(xy[0], xy[1])\n",
    "xy = np.array([Q(t, p4, p5, p0, p1) for t in np.linspace(0, 1, 30)]).T\n",
    "plot(xy[0], xy[1])\n",
    "xy = np.array([Q(t, p5, p0, p1, p2) for t in np.linspace(0, 1, 30)]).T\n",
    "plot(xy[0], xy[1])"
   ]
  },
  {
   "cell_type": "code",
   "execution_count": null,
   "metadata": {
    "collapsed": true
   },
   "outputs": [],
   "source": []
  }
 ],
 "metadata": {
  "kernelspec": {
   "display_name": "Python 2",
   "language": "python",
   "name": "python2"
  },
  "language_info": {
   "codemirror_mode": {
    "name": "ipython",
    "version": 2
   },
   "file_extension": ".py",
   "mimetype": "text/x-python",
   "name": "python",
   "nbconvert_exporter": "python",
   "pygments_lexer": "ipython2",
   "version": "2.7.10"
  }
 },
 "nbformat": 4,
 "nbformat_minor": 0
}
