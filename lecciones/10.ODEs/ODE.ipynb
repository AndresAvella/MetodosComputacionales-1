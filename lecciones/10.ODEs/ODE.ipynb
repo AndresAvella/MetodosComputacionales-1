{
 "cells": [
  {
   "cell_type": "markdown",
   "metadata": {},
   "source": [
    "#Ordinary differential equations"
   ]
  },
  {
   "cell_type": "markdown",
   "metadata": {},
   "source": [
    "One of the forms that computational experiments take is solving a differential equation. Usually this equation is the mathematical formulation of some physical principle. For instance:\n",
    "\n",
    "$$\n",
    "m\\frac{d^2 x}{dt^2} = -kx\n",
    "$$\n",
    "\n",
    "represents the equation of motion of a bead of mass $m$ attached to a spring. Here we have used the approximation that the force is proportional to the displacement $F=-kx$ and Newton's second law $F=m\\frac{d^2x}{dt^2}$ for a body of constant mass. \n",
    "\n",
    "In this section we deal with ordinary differential equations (ODE) that contain only one independent variable and derivatives of that variable. \n",
    "\n",
    "We will explore four methods to solve first order ODE. This means that we only have first derivatives in the differential equation. The equations can also be linear or non-linear. This refers to the algebraic order of the function included in the derivative.\n",
    "\n",
    "The following is an example of a first order linear ODE:\n",
    "\n",
    "\n",
    "$$\n",
    "\\frac{dy}{dt} = K^2(t) y(t)\n",
    "$$\n",
    "\n",
    "and this is a first order non-linear ODE:\n",
    "\n",
    "$$\n",
    "\\frac{dy}{dt} = K^2(t) y(t) + K(t)y^3(t)\n",
    "$$\n"
   ]
  },
  {
   "cell_type": "markdown",
   "metadata": {},
   "source": [
    "#Solving ODEs"
   ]
  },
  {
   "cell_type": "markdown",
   "metadata": {},
   "source": [
    "Consider now the equation\n",
    "\n",
    "$$\n",
    "\\frac{dy}{dx} = y^{\\prime} = f(x,y)\n",
    "$$\n",
    "\n",
    "We will consider now three different methods to solve it."
   ]
  },
  {
   "cell_type": "markdown",
   "metadata": {},
   "source": [
    "#Euler Method\n",
    "\n"
   ]
  },
  {
   "cell_type": "markdown",
   "metadata": {},
   "source": [
    "We can approximate the first derivative around a given point $x_{0}$ as follows:\n",
    "\n",
    "$$\n",
    "y^{\\prime}(x_0,y_0) \\approx \\frac{y(x)-y_0}{x-x_{0}}\n",
    "$$\n",
    "\n",
    "which basically approximates the first derivative as the slope of a line drawn between points $x_{0}$ and $x$. From this approximation we can get the value of our unknown function $y(x)$ in terms of things we can compute\n",
    "\n",
    "$$\n",
    "y(x) = y_{0} + (x-x_0)y^{\\prime}(x_0,y_0)\n",
    "$$\n",
    "\n",
    "If we introduce a new variable $h=x - x_0$ one could rewrite this expression as\n",
    "\n",
    "$$\n",
    "y(x_0 + h) = y_{0} + hy^{\\prime}(x_0,y_0) = y_0 + hf_0\n",
    "$$\n",
    "\n",
    "I would only need the value for $y_0$ to compute the solution. One way to see this solution is that starting with a value $y_0$ y build the solution step by step: $y(x_0+h)$, $y(x_0+2h)$, $y(x_0+3h)$ $\\ldots$.\n",
    "\n",
    "This can be expressed in general as\n",
    "\n",
    "$$\n",
    "y_{n+1} = y_{n} + hf(x_n, y_n)\n",
    "$$\n"
   ]
  },
  {
   "cell_type": "markdown",
   "metadata": {},
   "source": [
    "## Example"
   ]
  },
  {
   "cell_type": "markdown",
   "metadata": {},
   "source": [
    "Let's consider the following first order non-linear ODE $y^{\\prime} = -y $ on the range $0< x<2 $ for $y(0)=1 $. The analytic solution of this equation is $y = \\exp(-x)$."
   ]
  },
  {
   "cell_type": "code",
   "execution_count": 1,
   "metadata": {
    "collapsed": false
   },
   "outputs": [
    {
     "name": "stdout",
     "output_type": "stream",
     "text": [
      "Populating the interactive namespace from numpy and matplotlib\n"
     ]
    }
   ],
   "source": [
    "%pylab inline\n"
   ]
  },
  {
   "cell_type": "code",
   "execution_count": 2,
   "metadata": {
    "collapsed": false
   },
   "outputs": [],
   "source": [
    "#we define first the value of h and the corresponding range in x\n",
    "h=0.01\n",
    "min_x = 0.0\n",
    "max_x = 4.0\n",
    "n_points = int((max_x - min_x)/h)\n",
    "x = zeros(n_points)\n",
    "y = zeros(n_points)"
   ]
  },
  {
   "cell_type": "code",
   "execution_count": 21,
   "metadata": {
    "collapsed": false
   },
   "outputs": [],
   "source": [
    "#I do the initialization for the first item y[0] and loop over the rest of the items\n",
    "def func_prime(x,y):\n",
    "    return -y\n",
    "\n",
    "x[0] = min_x\n",
    "y[0] = 1.0\n",
    "for i in range(1,n_points):\n",
    "    x[i] = x[i-1] + h\n",
    "    y[i] = y[i-1] + h * func_prime(x[i-1],y[i-1])"
   ]
  },
  {
   "cell_type": "code",
   "execution_count": 22,
   "metadata": {
    "collapsed": false
   },
   "outputs": [
    {
     "data": {
      "text/plain": [
       "<matplotlib.text.Text at 0x7fd629fbb050>"
      ]
     },
     "execution_count": 22,
     "metadata": {},
     "output_type": "execute_result"
    },
    {
     "data": {
      "image/png": "[encoded data removed]",
      "text/plain": [
       "<matplotlib.figure.Figure at 0x7fd629ff9a90>"
      ]
     },
     "metadata": {},
     "output_type": "display_data"
    }
   ],
   "source": [
    "plot(x,y, 'ko')\n",
    "plot(x,exp(-x))\n",
    "plt.xlabel('x')\n",
    "plt.ylabel('y(x)')"
   ]
  },
  {
   "cell_type": "code",
   "execution_count": 23,
   "metadata": {
    "collapsed": false
   },
   "outputs": [
    {
     "data": {
      "text/plain": [
       "<matplotlib.text.Text at 0x7fd629f9fb10>"
      ]
     },
     "execution_count": 23,
     "metadata": {},
     "output_type": "execute_result"
    },
    {
     "data": {
      "image/png": "[encoded data removed]",
      "text/plain": [
       "<matplotlib.figure.Figure at 0x7fd629ee9250>"
      ]
     },
     "metadata": {},
     "output_type": "display_data"
    }
   ],
   "source": [
    "plot(x,abs(exp(-x)-y), 'ko')\n",
    "plt.xlabel('$x$', size=30)\n",
    "plt.ylabel('$|y_{\\mathrm{true}}-y_{\\mathrm{euler}}|$',size=30)"
   ]
  },
  {
   "cell_type": "markdown",
   "metadata": {},
   "source": [
    "#Leap-Frog Method"
   ]
  },
  {
   "cell_type": "markdown",
   "metadata": {},
   "source": [
    "This method uses the central difference approximation\n",
    "\n",
    "$$\n",
    "y^{\\prime} (x_{n}, y_{n})\\approx \\frac{y_{n+1} - y_{n-1}}{2 h} \n",
    "$$\n",
    "\n",
    "which leads to \n",
    "\n",
    "$$\n",
    "y_{n+1} = y_{n-1} + 2hf(x_{n}, y_{n})\n",
    "$$"
   ]
  },
  {
   "cell_type": "code",
   "execution_count": 24,
   "metadata": {
    "collapsed": false
   },
   "outputs": [],
   "source": [
    "#this can be implemented as follows\n",
    "h=0.01\n",
    "min_x = 0.0\n",
    "max_x = 4.0\n",
    "n_points = int((max_x - min_x)/h)\n",
    "x = zeros(n_points)\n",
    "y = zeros(n_points)"
   ]
  },
  {
   "cell_type": "code",
   "execution_count": 25,
   "metadata": {
    "collapsed": false
   },
   "outputs": [],
   "source": [
    "def func_prime(x,y):\n",
    "    return -y"
   ]
  },
  {
   "cell_type": "code",
   "execution_count": 27,
   "metadata": {
    "collapsed": false
   },
   "outputs": [],
   "source": [
    "x[0] = min_x\n",
    "y[0] = 1.0\n",
    "\n",
    "x[1] = min_x + h\n",
    "y[1] = y[0] + h*func_prime(x[0],y[0])\n",
    "\n",
    "for i in range(2,n_points):\n",
    "    x[i] = x[i-1] + h\n",
    "    y[i] = y[i-2] + 2 * h * func_prime(x[i-1],y[i-1])"
   ]
  },
  {
   "cell_type": "code",
   "execution_count": 28,
   "metadata": {
    "collapsed": false
   },
   "outputs": [
    {
     "data": {
      "text/plain": [
       "<matplotlib.text.Text at 0x7fd629ec3ad0>"
      ]
     },
     "execution_count": 28,
     "metadata": {},
     "output_type": "execute_result"
    },
    {
     "data": {
      "image/png": "[encoded data removed]",
      "text/plain": [
       "<matplotlib.figure.Figure at 0x7fd629ee9b10>"
      ]
     },
     "metadata": {},
     "output_type": "display_data"
    }
   ],
   "source": [
    "plot(x,y, 'ko')\n",
    "plot(x,exp(-x))\n",
    "plt.xlabel('x')\n",
    "plt.ylabel('y(x)')"
   ]
  },
  {
   "cell_type": "code",
   "execution_count": 29,
   "metadata": {
    "collapsed": false
   },
   "outputs": [
    {
     "data": {
      "text/plain": [
       "<matplotlib.text.Text at 0x7fd629d7c3d0>"
      ]
     },
     "execution_count": 29,
     "metadata": {},
     "output_type": "execute_result"
    },
    {
     "data": {
      "image/png": "[encoded data removed]",
      "text/plain": [
       "<matplotlib.figure.Figure at 0x7fd629dde890>"
      ]
     },
     "metadata": {},
     "output_type": "display_data"
    }
   ],
   "source": [
    "plot(x,abs(exp(-x)-y), 'ko')\n",
    "plt.xlabel('$x$', size=30)\n",
    "plt.ylabel('$|y_{\\mathrm{true}}-y_{\\mathrm{LF}}|$',size=30)"
   ]
  },
  {
   "cell_type": "markdown",
   "metadata": {},
   "source": [
    "#Runge-Kutta of 2nd order"
   ]
  },
  {
   "cell_type": "markdown",
   "metadata": {},
   "source": [
    "This method is a refinement over the Euler method. It computes the derivative at a point half-way between the $x_0$ and $x$. Meaning that we have\n",
    "$$\n",
    "x_{half} = x_{0} + \\frac{h}{2}\n",
    "$$\n",
    "\n",
    "and \n",
    "\n",
    "$$\n",
    "y_{half}  = y_{0} + \\frac{h}{2}y^{\\prime}(x_{0},y_{0})\n",
    "$$\n",
    "\n",
    "with these two expressions we can calculate $y^{\\prime}= f(x_{half}, y_{half})$. With this value of the derivative the value of the function at $x_0 + h$ is computed as\n",
    "\n",
    "$$\n",
    "y_{1} = y_{0} + hy^{\\prime} \n",
    "$$"
   ]
  },
  {
   "cell_type": "code",
   "execution_count": 30,
   "metadata": {
    "collapsed": false
   },
   "outputs": [],
   "source": [
    "#this can be implemented as follows\n",
    "h=0.01\n",
    "min_x = 0.0\n",
    "max_x = 4.0\n",
    "n_points = int((max_x - min_x)/h)\n",
    "x = zeros(n_points)\n",
    "y = zeros(n_points)"
   ]
  },
  {
   "cell_type": "code",
   "execution_count": 31,
   "metadata": {
    "collapsed": false
   },
   "outputs": [],
   "source": [
    "def func_prime(x,y):\n",
    "    return -y"
   ]
  },
  {
   "cell_type": "code",
   "execution_count": 32,
   "metadata": {
    "collapsed": false
   },
   "outputs": [],
   "source": [
    "x[0] = min_x\n",
    "y[0] = 1.0\n",
    "for i in range(1,n_points):\n",
    "    k1 = h * func_prime(x[i-1], y[i-1])\n",
    "    k2 = h * func_prime(x[i-1] + 0.5 * h, y[i-1] + 0.5 * k1)\n",
    "    x[i] = x[i-1] + h\n",
    "    y[i] = y[i-1] + k2"
   ]
  },
  {
   "cell_type": "code",
   "execution_count": 34,
   "metadata": {
    "collapsed": false
   },
   "outputs": [
    {
     "data": {
      "text/plain": [
       "<matplotlib.text.Text at 0x7fd629cb0d10>"
      ]
     },
     "execution_count": 34,
     "metadata": {},
     "output_type": "execute_result"
    },
    {
     "data": {
      "image/png": "[encoded data removed]",
      "text/plain": [
       "<matplotlib.figure.Figure at 0x7fd629c59510>"
      ]
     },
     "metadata": {},
     "output_type": "display_data"
    }
   ],
   "source": [
    "plot(x,y, 'ko')\n",
    "plot(x,exp(-x))\n",
    "plt.xlabel('x')\n",
    "plt.ylabel('y(x)')"
   ]
  },
  {
   "cell_type": "code",
   "execution_count": 35,
   "metadata": {
    "collapsed": false
   },
   "outputs": [
    {
     "data": {
      "text/plain": [
       "<matplotlib.text.Text at 0x7fd629c38b90>"
      ]
     },
     "execution_count": 35,
     "metadata": {},
     "output_type": "execute_result"
    },
    {
     "data": {
      "image/png": "[encoded data removed]",
      "text/plain": [
       "<matplotlib.figure.Figure at 0x7fd629b95090>"
      ]
     },
     "metadata": {},
     "output_type": "display_data"
    }
   ],
   "source": [
    "plot(x,abs(exp(-x)-y), 'ko')\n",
    "plt.xlabel('$x$', size=30)\n",
    "plt.ylabel('$|y_{\\mathrm{true}}-y_{\\mathrm{RG2}}|$',size=30)"
   ]
  },
  {
   "cell_type": "markdown",
   "metadata": {},
   "source": [
    "#Runge-kutta of 4th order"
   ]
  },
  {
   "cell_type": "markdown",
   "metadata": {},
   "source": [
    "This algorithm represents a further improvement. In this case the slope that is used to make the step is a weighted average of different slopes\n",
    "\n",
    "$$\n",
    "{\\mathrm{slope}} = \\frac{1}{6}(k_1 + 2k_2 + 2k_3 + k_4),\n",
    "$$\n",
    "where, \n",
    "\n",
    "* $k_1$ is the slope at the beginning of the inteval\n",
    "* $k_2$ is the slope at the middle of the interval, using $k_1$ to determine the value of $y$.\n",
    "* $k_3$ is the slope at the middle of the interval, but this time using $k_2$ to determine the value of $y$.\n",
    "* $k_4$ is the slope at the end point, with its value determined using $k_3$"
   ]
  },
  {
   "cell_type": "code",
   "execution_count": 36,
   "metadata": {
    "collapsed": false
   },
   "outputs": [],
   "source": [
    "#here is an implementation\n",
    "h=0.01\n",
    "min_x = 0.0\n",
    "max_x = 4.0\n",
    "n_points = int((max_x - min_x)/h)\n",
    "x = zeros(n_points)\n",
    "y = zeros(n_points)"
   ]
  },
  {
   "cell_type": "code",
   "execution_count": 39,
   "metadata": {
    "collapsed": false
   },
   "outputs": [],
   "source": [
    "def func_prime(x,y):\n",
    "    return -y"
   ]
  },
  {
   "cell_type": "code",
   "execution_count": 40,
   "metadata": {
    "collapsed": false
   },
   "outputs": [],
   "source": [
    "x[0] = min_x\n",
    "y[0] = 1.0\n",
    "for i in range(1,n_points):\n",
    "    k1 = h * func_prime(x[i-1]          , y[i-1])\n",
    "    k2 = h * func_prime(x[i-1] + 0.5 * h, y[i-1] + 0.5 * k1)\n",
    "    k3 = h * func_prime(x[i-1] + 0.5 * h, y[i-1] + 0.5 * k2)\n",
    "    k4 = h * func_prime(x[i-1] + h      , y[i-1] + k3)\n",
    "    \n",
    "    #fourth step\n",
    "    average_k = (1.0/6.0)*(k1 + 2.0*k2 + 2.0*k3 + k4)\n",
    "    \n",
    "    x[i] = x[i-1] + h\n",
    "    y[i] = y[i-1] + average_k"
   ]
  },
  {
   "cell_type": "code",
   "execution_count": 41,
   "metadata": {
    "collapsed": false
   },
   "outputs": [
    {
     "data": {
      "text/plain": [
       "<matplotlib.text.Text at 0x7fd629a72490>"
      ]
     },
     "execution_count": 41,
     "metadata": {},
     "output_type": "execute_result"
    },
    {
     "data": {
      "image/png": "[encoded data removed]",
      "text/plain": [
       "<matplotlib.figure.Figure at 0x7fd629a9e910>"
      ]
     },
     "metadata": {},
     "output_type": "display_data"
    }
   ],
   "source": [
    "plot(x,y, 'ko')\n",
    "plot(x,exp(-x))\n",
    "plt.xlabel('x')\n",
    "plt.ylabel('y(x)')"
   ]
  },
  {
   "cell_type": "code",
   "execution_count": 42,
   "metadata": {
    "collapsed": false
   },
   "outputs": [
    {
     "data": {
      "text/plain": [
       "<matplotlib.text.Text at 0x7fd629a6af50>"
      ]
     },
     "execution_count": 42,
     "metadata": {},
     "output_type": "execute_result"
    },
    {
     "data": {
      "image/png": "[encoded data removed]",
      "text/plain": [
       "<matplotlib.figure.Figure at 0x7fd629a87e50>"
      ]
     },
     "metadata": {},
     "output_type": "display_data"
    }
   ],
   "source": [
    "plot(x,abs(exp(-x)-y), 'ko')\n",
    "plt.xlabel('$x$', size=30)\n",
    "plt.ylabel('$|y_{\\mathrm{true}}-y_{\\mathrm{RG4}}|$',size=30)"
   ]
  },
  {
   "cell_type": "markdown",
   "metadata": {},
   "source": [
    "#Exercises\n",
    "\n",
    "1. Try solving the same differential equation using all the methods, with a smaller time-step (say h=0.1). Which method is the worst?\n",
    "\n",
    "2. Solve the differential equation $y^{\\prime} = 1+y^2$ in the interval $0 < x <1$ and the boundary condition $y(0)=0$. Use the four methods explained above. Compare the numerical solution against the analytical solution."
   ]
  },
  {
   "cell_type": "code",
   "execution_count": null,
   "metadata": {
    "collapsed": true
   },
   "outputs": [],
   "source": []
  }
 ],
 "metadata": {
  "kernelspec": {
   "display_name": "Python 2",
   "language": "python",
   "name": "python2"
  },
  "language_info": {
   "codemirror_mode": {
    "name": "ipython",
    "version": 2
   },
   "file_extension": ".py",
   "mimetype": "text/x-python",
   "name": "python",
   "nbconvert_exporter": "python",
   "pygments_lexer": "ipython2",
   "version": "2.7.6"
  }
 },
 "nbformat": 4,
 "nbformat_minor": 0
}
