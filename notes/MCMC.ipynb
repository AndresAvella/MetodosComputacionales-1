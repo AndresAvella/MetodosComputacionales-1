{
 "metadata": {
  "name": "MCMC"
 },
 "nbformat": 3,
 "nbformat_minor": 0,
 "worksheets": [
  {
   "cells": [
    {
     "cell_type": "markdown",
     "metadata": {},
     "source": [
      "#Markov Chain Monte Carlo"
     ]
    },
    {
     "cell_type": "markdown",
     "metadata": {},
     "source": [
      "In a previous lecture we used a Monte Carlo method to estimate the value of $\\pi$. This was done using a method known as direct sampling. We threw out a large number of random numbers and we picked those that were inside some region of interest. We used the same method to produce a sample of points that followed a given probability density distribution. This was the method we used to compute some integrals.\n",
      "\n",
      "Very soon we ran into a problem. If the function wasn't *nice* or the problem had very high dimensionality the number of points we threw was very high in comparison with the points that we kept.\n",
      "\n",
      "A nice function is a gaussian:"
     ]
    },
    {
     "cell_type": "code",
     "collapsed": false,
     "input": [
      "%pylab inline"
     ],
     "language": "python",
     "metadata": {},
     "outputs": [
      {
       "output_type": "stream",
       "stream": "stdout",
       "text": [
        "\n",
        "Welcome to pylab, a matplotlib-based Python environment [backend: module://IPython.zmq.pylab.backend_inline].\n",
        "For more information, type 'help(pylab)'.\n"
       ]
      }
     ],
     "prompt_number": 1
    },
    {
     "cell_type": "code",
     "collapsed": false,
     "input": [
      "x = linspace(-4.0,4.0,1000)\n",
      "f = exp(-(x**2))\n",
      "plot(x,f)"
     ],
     "language": "python",
     "metadata": {},
     "outputs": [
      {
       "output_type": "pyout",
       "prompt_number": 2,
       "text": [
        "[<matplotlib.lines.Line2D at 0x2ac6e10>]"
       ]
      },
      {
       "output_type": "display_data",
       "png": "[encoded data removed]",
       "text": [
        "<matplotlib.figure.Figure at 0x2a9b450>"
       ]
      }
     ],
     "prompt_number": 2
    },
    {
     "cell_type": "markdown",
     "metadata": {},
     "source": [
      "It was relatively easy to get a bunch of random numbers following falling *below* the curve. But now consider this non-normalized probability density function\n",
      "\n"
     ]
    },
    {
     "cell_type": "code",
     "collapsed": false,
     "input": [
      "def nasty_function(x):\n",
      "    x_0 = 3.0\n",
      "    a = 0.01\n",
      "    return exp(-(x**2))/((x-x_0)**2 + a**2)\n",
      "\n",
      "f = nasty_function(x)\n",
      "plot(x,f)"
     ],
     "language": "python",
     "metadata": {},
     "outputs": [
      {
       "output_type": "pyout",
       "prompt_number": 7,
       "text": [
        "[<matplotlib.lines.Line2D at 0x4629f90>]"
       ]
      },
      {
       "output_type": "display_data",
       "png": "[encoded data removed]",
       "text": [
        "<matplotlib.figure.Figure at 0x2aae090>"
       ]
      }
     ],
     "prompt_number": 7
    },
    {
     "cell_type": "markdown",
     "metadata": {},
     "source": [
      "That function will be much harder to sample properly. Why? Because of the very narrow peak you see on the right. If you throw a bunch of numbers most of them will be rejected until you start to get a proper number of accepted points below the curve. \n",
      "\n",
      "In these cases direct sampling is not an option. This is the motivation to start using Markov Chain sampling."
     ]
    },
    {
     "cell_type": "markdown",
     "metadata": {},
     "source": [
      "##Metropolis-Hastings algorithm"
     ]
    },
    {
     "cell_type": "markdown",
     "metadata": {},
     "source": [
      "Markov Chain methods are a family of algorithms used to efficiently sample a probability density function. These are based in a *random walk* in the space of parameters we are interested in. There different kinds of ways to make this random walk. One of this ways is known as the Metropolis-Hastings algorithm.\n",
      "\n",
      "The way the algorithm work is the following. \n",
      "\n",
      "Say that we want to construct a series of points that sample the nasty function we had before."
     ]
    },
    {
     "cell_type": "markdown",
     "metadata": {},
     "source": [
      "The **first part of the initalization** is getting an initial step $x_{t}$ in the interval we care about, say [-4:4]"
     ]
    },
    {
     "cell_type": "code",
     "collapsed": false,
     "input": [
      "x_walk = empty((0)) #this is an empty list to keep all the steps\n",
      "x_0 = 8.0*((random.random())-0.5) #this is the initialization\n",
      "x_walk = append(x_walk,x_0)\n",
      "print x_walk"
     ],
     "language": "python",
     "metadata": {},
     "outputs": [
      {
       "output_type": "stream",
       "stream": "stdout",
       "text": [
        "[ 1.32202571]\n"
       ]
      }
     ],
     "prompt_number": 8
    },
    {
     "cell_type": "markdown",
     "metadata": {},
     "source": [
      "The **second part of the initialization** is picking a *second* probability function that generates a new random number from the previous one. Usually this function is a Gaussian centered at the previous point.  What we do is taking another small step in our walk on the $x$ axis, by using the gaussian we are sure that we are not going to far from the previous step."
     ]
    },
    {
     "cell_type": "markdown",
     "metadata": {},
     "source": [
      "Now comes the **iteration part**. \n",
      "\n",
      "* We generate a new candidate point $x^{\\prime}$ from the previous one (we use the Gaussian PDF)\n",
      "* We compute the acceptance ratio $\\alpha=f(x^\\prime)/f(x)$, where $f(x)$ is the function we wish to sample.\n",
      "* If $\\alpha>1.0$ it means that the candidate point has more probability to be be sampled than the previous point $x$. In that case we accept $x^\\prime$ as the next step $x_{t+1}=x^{\\prime}$. If $\\alpha<1.0$ we accept $x^{\\prime}$ with probability $\\alpha$. That means that we draw a random number $\\beta$ from a uniform probability distribution, if $\\beta<\\alpha$ we accept $x_{t+1}=x^{\\prime}$. In the opposite case we take $x_{t+1}=x_{t}$."
     ]
    },
    {
     "cell_type": "code",
     "collapsed": false,
     "input": [
      "n_iterations = 200000 #this is the number of iterations I want to make\n",
      "for i in range(n_iterations):\n",
      "    x_prime = np.random.normal(x_walk[i], 0.1) #0.1 is the sigma in the normal distribution\n",
      "    alpha = nasty_function(x_prime)/nasty_function(x_walk[i])\n",
      "    if(alpha>=1.0):\n",
      "        x_walk  = append(x_walk,x_prime)\n",
      "    else:\n",
      "        beta = random.random()\n",
      "        if(beta<=alpha):\n",
      "            x_walk = append(x_walk,x_prime)\n",
      "        else:\n",
      "            x_walk = append(x_walk,x_walk[i])\n"
     ],
     "language": "python",
     "metadata": {},
     "outputs": [],
     "prompt_number": 9
    },
    {
     "cell_type": "code",
     "collapsed": false,
     "input": [
      "f = nasty_function(x)\n",
      "norm = sum(f*(x[1]-x[0]))\n",
      "plot(x,f/norm, linewidth=1, color='r')\n",
      "count, bins, ignored = plt.hist(x_walk, 1000, normed=True)\n",
      "\n",
      "#fig = figure(1, figsize=(9.5,6.5))\n",
      "plt.xlabel('x')\n",
      "plt.ylabel('p(x)')\n",
      "ax = axes()\n",
      "ax.set_xlim([-4.0,4.0])\n",
      "ax.set_ylim([0.0,2.0])"
     ],
     "language": "python",
     "metadata": {},
     "outputs": [
      {
       "output_type": "pyout",
       "prompt_number": 10,
       "text": [
        "(0.0, 2.0)"
       ]
      },
      {
       "output_type": "display_data",
       "png": "[encoded data removed]",
       "text": [
        "<matplotlib.figure.Figure at 0x34e1410>"
       ]
      }
     ],
     "prompt_number": 10
    },
    {
     "cell_type": "markdown",
     "metadata": {},
     "source": [
      "#Exercise\n",
      "Implement a 2D MCMC to sample a probability density function that is proportional to the following function:\n",
      "\n",
      "$$\n",
      "f(x_1,x_2) = \\exp\\left(-\\frac{100(x_2-x_1^2)^2 + (1-x_1)^2}{20}\\right)\n",
      "$$\n",
      "\n",
      "Here is how the density contours for $f(x_1,x_2)$ look like: https://github.com/dfm/MarkovPy/wiki/Sampling-Rosenbrock-Density"
     ]
    },
    {
     "cell_type": "code",
     "collapsed": false,
     "input": [],
     "language": "python",
     "metadata": {},
     "outputs": []
    }
   ],
   "metadata": {}
  }
 ]
}