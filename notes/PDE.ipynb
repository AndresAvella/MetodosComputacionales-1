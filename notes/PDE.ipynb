{
 "metadata": {
  "name": "PDE"
 },
 "nbformat": 3,
 "nbformat_minor": 0,
 "worksheets": [
  {
   "cells": [
    {
     "cell_type": "markdown",
     "metadata": {},
     "source": [
      "#Partial Differential Equations"
     ]
    },
    {
     "cell_type": "markdown",
     "metadata": {},
     "source": [
      "There is a large array of physical phenomena that can be described by differential equations involving partial derivatives. Those equations are known as Partial Differential Equations (PDEs)\n",
      "\n",
      "\n",
      "Here is a brief list of PDEs with its corresponding physics background:\n",
      "\n",
      "* The Schroedinger Equation in 2D\n",
      "$$\n",
      "-\\frac{\\partial^2 u }{\\partial x^2} -\\frac{\\partial^2 u}{\\partial y^2} + f(x,y) u = i\\frac{\\partial u}{\\partial t}\n",
      "$$\n",
      "where $u$ is the wave-function.\n",
      "\n",
      "* Poission equation in 3D (classical gravity)\n",
      "$$\n",
      "\\frac{\\partial^2 u }{\\partial x^2} + \\frac{\\partial^2 u}{\\partial y^2} + \\frac{\\partial^2 u}{\\partial x^2} = -4\\pi\\rho(x,y,z)\n",
      "$$\n",
      "where $u$ is the gravitational potential and $\\rho$ is an arbitrary density distribution.\n",
      "\n",
      "* Difussion equation (1D)\n",
      "$$\n",
      "\\frac{\\partial^2 u}{\\partial x^2}= A\\frac{\\partial u}{\\partial t}\n",
      "$$\n",
      "where $u$ could be for instance a scalar field representing heat and $A$ is known as the difussion constant.\n",
      "\n",
      "* Wave equation (2D)\n",
      "$$\n",
      "\\frac{\\partial^2 u }{\\partial x^2} + \\frac{\\partial^2 u}{\\partial y^2}=A\\frac{\\partial^2 u}{\\partial t^2}\n",
      "$$\n",
      "\n",
      "There are many different methods to solve these equations such as finite elements or spectral methods, which can include Fourier Transform methods. In this section we will focus on the Finite Differences Method.\n"
     ]
    },
    {
     "cell_type": "markdown",
     "metadata": {},
     "source": [
      "#Finite differences\n",
      "\n",
      "The concept behind the finite differences method is the same equal-step logic we have applied so far in ODE. We discretize the spatial and temporal variables into 'deltas' that can be used to define the functions and derivatives we need."
     ]
    },
    {
     "cell_type": "markdown",
     "metadata": {},
     "source": [
      "##Diffusion equation\n",
      "\n",
      "Take for instance the 1D diffusion equation\n",
      "$$\n",
      "\\frac{\\partial^2 u}{\\partial x^2}=\\frac{\\partial u}{\\partial t}\n",
      "$$\n",
      "\n",
      "Using the first term of the Taylor series one can approximate the derivatives as:\n",
      "\n",
      "\n",
      "$$\n",
      "\\frac{\\partial u}{\\partial t} \\approx \\frac{u(x,t+\\Delta t) - u(x,t)}{\\Delta t}\n",
      "$$\n",
      "\n",
      "$$\n",
      "\\frac{\\partial^2 u}{\\partial x^2} \\approx \\frac{u(x+\\Delta x,t) - 2 u(x,t) + u(x-\\Delta x,t)}{(\\Delta x)^2}\n",
      "$$"
     ]
    },
    {
     "cell_type": "markdown",
     "metadata": {},
     "source": [
      "If now we define that space in the region $0<x<L$ is discretized into $N+1$ points with spacing $\\Delta x$ and time is disretized into $M$ points spaced by $\\Delta t$ for $t>0$, we can define a series of points \n",
      "\n",
      "$$\n",
      "t_{j}=j\\Delta t\\ \\ j\\geq 0\n",
      "$$\n",
      "\n",
      "$$\n",
      "x_{i} = i\\Delta x\\ \\ 0\\leq i\\leq N\n",
      "$$\n",
      "\n",
      "such that the derivatives are now rewriten as\n",
      "\n",
      "$$\n",
      "\\frac{\\partial u}{\\partial t} \\approx \\frac{u(x_{i+1} ,t_j) - u(x_{i},t_{j})}{\\Delta t}\n",
      "$$\n",
      "\n",
      "$$\n",
      "\\frac{\\partial^2 u}{\\partial x^2} \\approx \\frac{u(x_{i+1},t_j) - 2 u(x_{i},t_j) + u(x_{i-1},t_j)}{(\\Delta x)^2}\n",
      "$$\n",
      "\n"
     ]
    },
    {
     "cell_type": "markdown",
     "metadata": {},
     "source": [
      "We simplify further this equations by introducing a new notation where the upper script describes the time discretization and the lower script describes the space discretization.\n",
      "\n",
      "\n",
      "$$\\frac{\\partial u}{\\partial t} \\approx \\frac{u^{j+1}_{i} - u^{j}_{i}}{\\Delta t}$$\n",
      "\n",
      "$$\n",
      "\\frac{\\partial^2 u}{\\partial x^2} \\approx \\frac{u_{i+1}^j - 2 u_{i}^{j} + u_{i-1}^{j}}{(\\Delta x)^2}\n",
      "$$"
     ]
    },
    {
     "cell_type": "markdown",
     "metadata": {},
     "source": [
      "We solve for $u_{i}^{j+1}$\n",
      "\n",
      "$$\n",
      "\\frac{u_{i+1}^j - 2 u_{i}^{j} + u_{i-1}^{j}}{(\\Delta x)^2} = \\frac{u^{j+1}_{i} - u^{j}_{i}}{\\Delta t}\n",
      "$$\n",
      "\n",
      "$$\n",
      "u_{i}^{j+1} = \\alpha u_{i+1}^{j} + (1 - 2\\alpha)u_{i}^{j} + \\alpha u_{i-1}^{j}\n",
      "$$\n",
      "\n",
      "where $\\alpha = \\Delta t/ (\\Delta x)^2$.\n",
      "\n",
      "To solve this we require initial conditions $u_{i}^{0} = g(x_i)$ and boundary conditions $u(0,t)= a(t)$, $u(L,t)=b(t)$. \n",
      "\n",
      "This is known as an explicit scheme that is very easy to implement. However it has a condition for numerical stability $\\alpha<1/2$."
     ]
    },
    {
     "cell_type": "markdown",
     "metadata": {},
     "source": [
      "##Wave equation\n",
      "\n",
      "We can use the same method to get a solution for the wave equation\n",
      "$$\n",
      "\\frac{\\partial^2 u}{\\partial x^2}=c^2\\frac{\\partial^2 u}{\\partial t^2}\n",
      "$$\n",
      "\n",
      "to get the following expression\n",
      "\n",
      "\n",
      "$$\n",
      "u_{i}^{j+1}= 2(1-r^2)u_{i}^{j} - u_{i}^{j-1} + r^2(u_{i+1}^{j} + u_{i-1}^j)\n",
      "$$\n",
      "\n",
      "where $r=c\\Delta t/\\Delta x$ and the stability condition is $r<1$.\n"
     ]
    },
    {
     "cell_type": "markdown",
     "metadata": {},
     "source": [
      "Are we ready to solve this equation? Not quite. We also need an initial condition for the first derivative, which can be put as \n",
      "$$\n",
      "\\frac{\\partial u}{\\partial t} (t=0) = \\frac{u_{i}^{+1}- u_{i}^{-1}}{2\\Delta t} = 0\n",
      "$$\n",
      "\n",
      "which gives a special condition for the first timestep:\n",
      "\n",
      "$$\n",
      "u_{i}^{1}=u_{i}^{0} + \\frac{r^2}{2}(u_{i+1}^0 - 2u_{i}^0 + u_{i-1}^0)\n",
      "$$\n",
      "\n",
      "As in the previous case, the boundaries must also be fixed to some known value $u_{0}^{j}=a$, $u_{N}=0$. The ends can also be considered to be free, in which case $u_{0}^{j}=u_{1}$ and $u_{N}^{j}=u_{N-1}^{j}$"
     ]
    },
    {
     "cell_type": "markdown",
     "metadata": {},
     "source": [
      "##Example"
     ]
    },
    {
     "cell_type": "code",
     "collapsed": false,
     "input": [
      "%pylab inline\n"
     ],
     "language": "python",
     "metadata": {},
     "outputs": [
      {
       "output_type": "stream",
       "stream": "stdout",
       "text": [
        "\n",
        "Welcome to pylab, a matplotlib-based Python environment [backend: module://IPython.kernel.zmq.pylab.backend_inline].\n",
        "For more information, type 'help(pylab)'.\n"
       ]
      }
     ],
     "prompt_number": 8
    },
    {
     "cell_type": "code",
     "collapsed": false,
     "input": [
      "n_points = 1000\n",
      "x = linspace(0.0,1.0,n_points)\n",
      "u_initial = exp(-((x-0.3)*(x-0.3))/0.01)"
     ],
     "language": "python",
     "metadata": {},
     "outputs": [],
     "prompt_number": 9
    },
    {
     "cell_type": "code",
     "collapsed": false,
     "input": [
      "plot(x,u_initial)"
     ],
     "language": "python",
     "metadata": {},
     "outputs": [
      {
       "output_type": "pyout",
       "prompt_number": 10,
       "text": [
        "[<matplotlib.lines.Line2D at 0x20a60d0>]"
       ]
      },
      {
       "output_type": "display_data",
       "png": "[encoded data removed]",
       "text": [
        "<matplotlib.figure.Figure at 0x21e7490>"
       ]
      }
     ],
     "prompt_number": 10
    },
    {
     "cell_type": "code",
     "collapsed": false,
     "input": [
      "#find the first iteration for fixed boundary conditions\n",
      "delta_x = x[1]-x[0]\n",
      "delta_t = 0.0005\n",
      "c = 1.0\n",
      "r = c * delta_t / delta_x\n",
      "\n",
      "print r\n",
      "\n",
      "#fixed boundary conditions\n",
      "u_initial[0] = 0.0\n",
      "u_initial[n_points-1] = 0.0\n",
      "\n",
      "u_new = u_initial.copy() #simple copy of the array\n",
      "\n",
      "for i in range(1,n_points-1):\n",
      "    u_new[i] = u_initial[i] + (r**2/2.0) * (u_initial[i+1] - 2.0 * u_initial[i] + u_initial[i-1])\n",
      "\n",
      "#create a new variable to hold the previous value\n",
      "u_last = u_initial.copy()\n",
      "#create a new variable to hold the present value\n",
      "u_now = u_new.copy()"
     ],
     "language": "python",
     "metadata": {},
     "outputs": [
      {
       "output_type": "stream",
       "stream": "stdout",
       "text": [
        "0.4995\n"
       ]
      }
     ],
     "prompt_number": 11
    },
    {
     "cell_type": "code",
     "collapsed": false,
     "input": [
      "plot(x, u_initial)\n",
      "plot(x, u_last)\n",
      "plot(x, u_now)\n",
      "plt.xlabel('x')\n",
      "plt.ylabel('u')"
     ],
     "language": "python",
     "metadata": {},
     "outputs": [
      {
       "output_type": "pyout",
       "prompt_number": 12,
       "text": [
        "<matplotlib.text.Text at 0x29950d0>"
       ]
      },
      {
       "output_type": "display_data",
       "png": "[encoded data removed]",
       "text": [
        "<matplotlib.figure.Figure at 0x2745110>"
       ]
      }
     ],
     "prompt_number": 12
    },
    {
     "cell_type": "code",
     "collapsed": false,
     "input": [
      "#next iterations\n",
      "n_time = 900\n",
      "for j in range(n_time):\n",
      "    for i in range(1,n_points-1):\n",
      "        u_new[i] = (2.0*(1.0-r**2))*u_now[i] - u_last[i] + (r**2)*(u_now[i+1] +  u_now[i-1])\n",
      "    u_last = u_now.copy()\n",
      "    #create a new variable to hold the present value\n",
      "    u_now = u_new.copy()"
     ],
     "language": "python",
     "metadata": {},
     "outputs": [],
     "prompt_number": 13
    },
    {
     "cell_type": "code",
     "collapsed": false,
     "input": [
      "plot(x, u_initial)\n",
      "plot(x, u_now)\n",
      "plt.xlabel('x')\n",
      "plt.ylabel('u')"
     ],
     "language": "python",
     "metadata": {},
     "outputs": [
      {
       "output_type": "pyout",
       "prompt_number": 14,
       "text": [
        "<matplotlib.text.Text at 0x2c6c950>"
       ]
      },
      {
       "output_type": "display_data",
       "png": "[encoded data removed]",
       "text": [
        "<matplotlib.figure.Figure at 0x299c190>"
       ]
      }
     ],
     "prompt_number": 14
    },
    {
     "cell_type": "markdown",
     "metadata": {},
     "source": [
      "#exercise\n",
      "Using a program in C. Compute the solution for 100,200,300,400,500,600,800,900 and 1000 iterations. Plot the results. "
     ]
    }
   ],
   "metadata": {}
  }
 ]
}