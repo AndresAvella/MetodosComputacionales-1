{
 "metadata": {
  "name": "ODE"
 },
 "nbformat": 3,
 "nbformat_minor": 0,
 "worksheets": [
  {
   "cells": [
    {
     "cell_type": "markdown",
     "metadata": {},
     "source": [
      "#Ordinary differential equations"
     ]
    },
    {
     "cell_type": "markdown",
     "metadata": {},
     "source": [
      "One of the forms that computational experiments take is solving a differential equation. Usually this equation is the mathematical formulation of some physical principle. For instance:\n",
      "\n",
      "$$\n",
      "m\\frac{d^2 x}{dt^2} = -kx\n",
      "$$\n",
      "\n",
      "represents the equation of motion of a bead of mass $m$ attached to a spring. Here we have used the approximation that the force is proportional to the displacement $F=-kx$ and Newton's second law $F=m\\frac{d^2x}{dt^2}$ for a body of constant mass. \n",
      "\n",
      "In this section we deal with ordinary differential equations (ODE) that contain only one independent variable and derivatives of that variable. \n",
      "\n",
      "We will explore three methods to solve first order ODEs, meaning that we will find only first derivatives. The equations can also be linear or non-linear. This refers to the algebraic order of the function included in the derivative.\n",
      "\n",
      "The following is an example of a first order linear ODE:\n",
      "\n",
      "\n",
      "$$\n",
      "\\frac{dy}{dt} = K^2(t) y(t)\n",
      "$$\n",
      "\n",
      "and this is a first order non-linear ODE:\n",
      "\n",
      "$$\n",
      "\\frac{dy}{dt} = K^2(t) y(t) + K(t)y^3(t)\n",
      "$$\n"
     ]
    },
    {
     "cell_type": "markdown",
     "metadata": {},
     "source": [
      "#Solving ODEs"
     ]
    },
    {
     "cell_type": "markdown",
     "metadata": {},
     "source": [
      "Consider now the equation\n",
      "\n",
      "$$\n",
      "\\frac{dy}{dx} = y^{\\prime} = f(x,y)\n",
      "$$\n",
      "\n",
      "We will consider now three different methods to solve it."
     ]
    },
    {
     "cell_type": "markdown",
     "metadata": {},
     "source": [
      "#Euler Method\n",
      "\n"
     ]
    },
    {
     "cell_type": "markdown",
     "metadata": {},
     "source": [
      "We can approximate the first derivative around a given point $x_{0}$ as follows:\n",
      "\n",
      "$$\n",
      "y^{\\prime}(x_0,y_0) \\approx \\frac{y(x)-y_0}{x-x_{0}}\n",
      "$$\n",
      "\n",
      "which basically approximates the first derivative as the slope of a line drawn between points $x_{0}$ and $x$. From this approximation we can get the value of our unknown function $y(x)$ in terms of things we can compute\n",
      "\n",
      "$$\n",
      "y(x) = y_{0} + (x-x_0)y^{\\prime}(x_0,y_0)\n",
      "$$\n",
      "\n",
      "If we introduce a new variable $h=x - x_0$ one could rewrite this expression as\n",
      "\n",
      "$$\n",
      "y(x_0 + h) = y_{0} + hy^{\\prime}(x_0,y_0) = y_0 + hf_0\n",
      "$$\n",
      "\n",
      "I would only need the value for $y_0$ to compute the solution. One way to see this solution is that starting with a value $y_0$ y build the solution step by step: $y(x_0+h)$, $y(x_0+2h)$, $y(x_0+3h)$ $\\ldots$.\n"
     ]
    },
    {
     "cell_type": "markdown",
     "metadata": {},
     "source": [
      "## Example"
     ]
    },
    {
     "cell_type": "markdown",
     "metadata": {},
     "source": [
      "Let's consider the following first order non-linear ODE $y^{\\prime} = -y\\ $ on the range $0< x<2\\ $ for $y(0)=1\\ $. The analytic solution of this equation is $y = \\exp(-x)$."
     ]
    },
    {
     "cell_type": "code",
     "collapsed": false,
     "input": [
      "%pylab inline\n"
     ],
     "language": "python",
     "metadata": {},
     "outputs": [
      {
       "output_type": "stream",
       "stream": "stdout",
       "text": [
        "\n",
        "Welcome to pylab, a matplotlib-based Python environment [backend: module://IPython.zmq.pylab.backend_inline].\n",
        "For more information, type 'help(pylab)'.\n"
       ]
      }
     ],
     "prompt_number": 1
    },
    {
     "cell_type": "code",
     "collapsed": false,
     "input": [
      "#we define first the value of h and the corresponding range in x\n",
      "h=0.2\n",
      "n_points = int((2.0+h)/h)\n",
      "x = empty(n_points)\n",
      "y = empty(n_points)\n",
      "print x, y"
     ],
     "language": "python",
     "metadata": {},
     "outputs": [
      {
       "output_type": "stream",
       "stream": "stdout",
       "text": [
        "[  6.91602526e-310   1.91039691e-316   1.17567366e+214   1.43955302e-152\n",
        "   1.27734658e-152   6.23537914e+228   2.54843478e+161   4.34028075e+270\n",
        "   2.66212858e-260   6.91602625e-310   4.74303020e-322] [  6.91602526e-310   1.61691006e-316   0.00000000e+000   0.00000000e+000\n",
        "   0.00000000e+000   0.00000000e+000   0.00000000e+000   0.00000000e+000\n",
        "   0.00000000e+000   0.00000000e+000   0.00000000e+000]\n"
       ]
      }
     ],
     "prompt_number": 2
    },
    {
     "cell_type": "code",
     "collapsed": false,
     "input": [
      "#I do the initialization for the first item y[0] and loop over the rest of the items\n",
      "def func_prime(x,y):\n",
      "    return -y\n",
      "\n",
      "y[0] = 1.0\n",
      "for i in range(1,n_points):\n",
      "    y_prime = func_prime(x[i-1],y[i-1])\n",
      "    x[i] = x[i-1] + h\n",
      "    y[i] = y[i-1] + h * y_prime"
     ],
     "language": "python",
     "metadata": {},
     "outputs": [],
     "prompt_number": 3
    },
    {
     "cell_type": "code",
     "collapsed": false,
     "input": [
      "plot(x,y, 'ko')\n",
      "plot(x,exp(-x))\n",
      "plt.xlabel('x')\n",
      "plt.ylabel('y(x)')"
     ],
     "language": "python",
     "metadata": {},
     "outputs": [
      {
       "output_type": "pyout",
       "prompt_number": 4,
       "text": [
        "<matplotlib.text.Text at 0x2525410>"
       ]
      },
      {
       "output_type": "display_data",
       "png": "[encoded data removed]"
      }
     ],
     "prompt_number": 4
    },
    {
     "cell_type": "code",
     "collapsed": false,
     "input": [
      "plot(x,exp(-x)-y, 'ko')\n",
      "plt.xlabel('$x$', size=30)\n",
      "plt.ylabel('$y_{\\mathrm{true}}-y_{\\mathrm{euler}}$',size=30)"
     ],
     "language": "python",
     "metadata": {},
     "outputs": [
      {
       "output_type": "pyout",
       "prompt_number": 5,
       "text": [
        "<matplotlib.text.Text at 0x2658350>"
       ]
      },
      {
       "output_type": "display_data",
       "png": "[encoded data removed]"
      }
     ],
     "prompt_number": 5
    },
    {
     "cell_type": "markdown",
     "metadata": {},
     "source": [
      "#Runge-Kutta of 2nd order"
     ]
    },
    {
     "cell_type": "markdown",
     "metadata": {},
     "source": [
      "This method is a refinement over the Euler method. It computes the derivative at a point half-way between the $x_0$ and $x$. Meaning that we have\n",
      "$$\n",
      "x_{new} = x_{0} + \\frac{h}{2}\n",
      "$$\n",
      "\n",
      "which yields\n",
      "$$\n",
      "y_{new}  = y_{0} + \\frac{h}{2}y^{\\prime}(x_{0},y_{0})\n",
      "$$\n",
      "\n",
      "with these two expressions we can calculate $y^{\\prime}= f(x_{new}, y_{new})$."
     ]
    },
    {
     "cell_type": "code",
     "collapsed": false,
     "input": [
      "#this can be implemented as follows\n",
      "h=0.2\n",
      "n_points = int((2.0+h)/h)\n",
      "x = empty(n_points)\n",
      "y = empty(n_points)\n",
      "print x, y\n"
     ],
     "language": "python",
     "metadata": {},
     "outputs": [
      {
       "output_type": "stream",
       "stream": "stdout",
       "text": [
        "[  6.91602526e-310   1.95253557e-316   2.64072870e-316   6.91600868e-310\n",
        "   9.32482109e-317   9.32482899e-317   0.00000000e+000   6.91602031e-310\n",
        "   6.34874355e-321   0.00000000e+000   4.74303020e-322] [  6.91602526e-310   2.04525549e-316   7.64935358e-317   4.94065646e-324\n",
        "   2.53530063e-316   2.53530102e-316   0.00000000e+000   6.91602031e-310\n",
        "   6.35862486e-321   0.00000000e+000   4.74303020e-322]\n"
       ]
      }
     ],
     "prompt_number": 6
    },
    {
     "cell_type": "code",
     "collapsed": false,
     "input": [
      "def func_prime(x,y):\n",
      "    return -y"
     ],
     "language": "python",
     "metadata": {},
     "outputs": [],
     "prompt_number": 7
    },
    {
     "cell_type": "code",
     "collapsed": false,
     "input": [
      "y[0] = 1.0\n",
      "for i in range(1,n_points):\n",
      "    y_prime = func_prime(x[i-1],y[i-1])\n",
      "    \n",
      "    x_middle = x[i-1] + (h/2.0)\n",
      "    y_middle = y[i-1] + (h/2.0) * y_prime \n",
      "    \n",
      "    y_middle_prime = func_prime(x_middle, y_middle)\n",
      "    x[i] = x[i-1] + h\n",
      "    y[i] = y[i-1] + h * y_middle_prime \n",
      "    "
     ],
     "language": "python",
     "metadata": {},
     "outputs": [],
     "prompt_number": 8
    },
    {
     "cell_type": "code",
     "collapsed": false,
     "input": [
      "plot(x,y, 'ko')\n",
      "plot(x,exp(-x))\n",
      "plt.xlabel('x')\n",
      "plt.ylabel('y(x)')"
     ],
     "language": "python",
     "metadata": {},
     "outputs": [
      {
       "output_type": "pyout",
       "prompt_number": 9,
       "text": [
        "<matplotlib.text.Text at 0x37eb6d0>"
       ]
      },
      {
       "output_type": "display_data",
       "png": "[encoded data removed]"
      }
     ],
     "prompt_number": 9
    },
    {
     "cell_type": "code",
     "collapsed": false,
     "input": [
      "plot(x,exp(-x)-y, 'ko')\n",
      "plt.xlabel('$x$', size=30)\n",
      "plt.ylabel('$y_{\\mathrm{true}}-y_{\\mathrm{euler}}$',size=30)"
     ],
     "language": "python",
     "metadata": {},
     "outputs": [
      {
       "output_type": "pyout",
       "prompt_number": 10,
       "text": [
        "<matplotlib.text.Text at 0x3b63090>"
       ]
      },
      {
       "output_type": "display_data",
       "png": "[encoded data removed]"
      }
     ],
     "prompt_number": 10
    },
    {
     "cell_type": "markdown",
     "metadata": {},
     "source": [
      "#Runge-kutta of 4th order"
     ]
    },
    {
     "cell_type": "markdown",
     "metadata": {},
     "source": [
      "This algorithm represents a further improvement. In this case the slope that is used to make the step is a weighted average of different slopes\n",
      "\n",
      "$$\n",
      "{\\mathrm{slope}} = \\frac{1}{6}(k_1 + 2k_2 + 2k_3 + k_4),\n",
      "$$\n",
      "where, \n",
      "\n",
      "* $k_1$ is the slope at the beginning of the inteval\n",
      "* $k_2$ is the slope at the middle of the interval, using $k_1$ to determine the value of $y$ at $x_{0}+h/2\\ $ using Euler's method\n",
      "* $k_3$ is the slope at the middle of the interval, but this time using $k_2$ to determine the value of $y$.\n",
      "* $k_4$ is the slope at the end point, with its value determined using $k_3$"
     ]
    },
    {
     "cell_type": "code",
     "collapsed": false,
     "input": [
      "#here is an implementation\n",
      "h=0.2\n",
      "n_points = int((2.0+h)/h)\n",
      "x = empty(n_points)\n",
      "y = empty(n_points)\n",
      "print x, y"
     ],
     "language": "python",
     "metadata": {},
     "outputs": [
      {
       "output_type": "stream",
       "stream": "stdout",
       "text": [
        "[  6.91602526e-310   2.64145439e-316   2.15371436e-316   4.94065646e-324\n",
        "   2.58135782e-316   2.58135822e-316   0.00000000e+000   6.91602031e-310\n",
        "   6.35862486e-321   0.00000000e+000   4.74303020e-322] [  6.91602526e-310   2.58584394e-316   2.16739800e-316   9.88131292e-324\n",
        "   2.34806319e-316   2.34806398e-316   0.00000000e+000   6.91602031e-310\n",
        "   6.34874355e-321   0.00000000e+000   4.74303020e-322]\n"
       ]
      }
     ],
     "prompt_number": 11
    },
    {
     "cell_type": "code",
     "collapsed": false,
     "input": [
      "def func_prime(x,y):\n",
      "    return -y"
     ],
     "language": "python",
     "metadata": {},
     "outputs": [],
     "prompt_number": 12
    },
    {
     "cell_type": "code",
     "collapsed": false,
     "input": [
      "y[0] = 1.0\n",
      "for i in range(1,n_points):\n",
      "  \n",
      "    k1 = func_prime(x[i-1],y[i-1])\n",
      "    \n",
      "    #first step\n",
      "    x1 = x[i-1] + (h/2.0)\n",
      "    y1 = y[i-1] + (h/2.0) * k1\n",
      "    k2 = func_prime(x1, y1)\n",
      "    \n",
      "    #second step\n",
      "    x2 = x[i-1] + (h/2.0)\n",
      "    y2 = y[i-1] + (h/2.0) * k2\n",
      "    k3 = func_prime(x2, y2)\n",
      "        \n",
      "    #third step\n",
      "    x3 = x[i-1] + h\n",
      "    y3 = y[i-1] + h * k3\n",
      "    k4 = func_prime(x3, y3)\n",
      "    \n",
      "    #fourth step\n",
      "    average_k = (1.0/6.0)*(k1 + 2.0*k2 + 2.0*k3 + k4)\n",
      "    \n",
      "    x[i] = x[i-1] + h\n",
      "    y[i] = y[i-1] + h * average_k"
     ],
     "language": "python",
     "metadata": {},
     "outputs": [],
     "prompt_number": 13
    },
    {
     "cell_type": "code",
     "collapsed": false,
     "input": [
      "plot(x,y, 'ko')\n",
      "plot(x,exp(-x))\n",
      "plt.xlabel('x')\n",
      "plt.ylabel('y(x)')"
     ],
     "language": "python",
     "metadata": {},
     "outputs": [
      {
       "output_type": "pyout",
       "prompt_number": 14,
       "text": [
        "<matplotlib.text.Text at 0x394ced0>"
       ]
      },
      {
       "output_type": "display_data",
       "png": "[encoded data removed]"
      }
     ],
     "prompt_number": 14
    },
    {
     "cell_type": "code",
     "collapsed": false,
     "input": [
      "plot(x,exp(-x)-y, 'ko')\n",
      "plt.xlabel('$x$', size=30)\n",
      "plt.ylabel('$y_{\\mathrm{true}}-y_{\\mathrm{euler}}$',size=30)"
     ],
     "language": "python",
     "metadata": {},
     "outputs": [
      {
       "output_type": "pyout",
       "prompt_number": 15,
       "text": [
        "<matplotlib.text.Text at 0x4042850>"
       ]
      },
      {
       "output_type": "display_data",
       "png": "[encoded data removed]"
      }
     ],
     "prompt_number": 15
    },
    {
     "cell_type": "markdown",
     "metadata": {},
     "source": [
      "#Exercise\n",
      "Solve the differential equation $y^{\\prime} = 1+y^2\\ $ in the interval $0 < x <0\\ \\ $ and the boundary condition $y(0)=1\\ $. Use the three methods explained above. Compare the numerical solution against the analytical solution."
     ]
    },
    {
     "cell_type": "code",
     "collapsed": false,
     "input": [],
     "language": "python",
     "metadata": {},
     "outputs": []
    }
   ],
   "metadata": {}
  }
 ]
}